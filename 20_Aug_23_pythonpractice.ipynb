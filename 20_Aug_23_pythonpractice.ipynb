{
  "nbformat": 4,
  "nbformat_minor": 0,
  "metadata": {
    "colab": {
      "provenance": []
    },
    "kernelspec": {
      "name": "python3",
      "display_name": "Python 3"
    },
    "language_info": {
      "name": "python"
    }
  },
  "cells": [
    {
      "cell_type": "code",
      "source": [
        "# 1. Write a program to reverse a string.\n",
        "string_to_reverse = \"Hello, World!\"\n",
        "reversed_string = string_to_reverse[::-1]\n",
        "print(f\"Reversed String: {reversed_string}\")"
      ],
      "metadata": {
        "colab": {
          "base_uri": "https://localhost:8080/"
        },
        "id": "wOnEgmTU15Rw",
        "outputId": "2ad86e78-d6c8-42e5-cc14-13941ebe4cff"
      },
      "execution_count": 3,
      "outputs": [
        {
          "output_type": "stream",
          "name": "stdout",
          "text": [
            "Reversed String: !dlroW ,olleH\n"
          ]
        }
      ]
    },
    {
      "cell_type": "code",
      "source": [
        "\n",
        "# 2. Check if a string is a palindrome.\n",
        "def is_palindrome(s):\n",
        "    return s == s[::-1]\n",
        "\n",
        "string_to_check = \"radar\"\n",
        "print(f\"Is Palindrome: {is_palindrome(string_to_check)}\")\n"
      ],
      "metadata": {
        "colab": {
          "base_uri": "https://localhost:8080/"
        },
        "id": "Vn7QNvt215YW",
        "outputId": "2c014b48-7b8f-4bf4-ff82-c4afba5c92a6"
      },
      "execution_count": 4,
      "outputs": [
        {
          "output_type": "stream",
          "name": "stdout",
          "text": [
            "Is Palindrome: True\n"
          ]
        }
      ]
    },
    {
      "cell_type": "code",
      "source": [
        "# 3. Convert a string to uppercase.\n",
        "original_string = \"hello, world!\"\n",
        "uppercase_string = original_string.upper()\n",
        "print(f\"Uppercase String: {uppercase_string}\")"
      ],
      "metadata": {
        "colab": {
          "base_uri": "https://localhost:8080/"
        },
        "id": "tYFjCzCs15fJ",
        "outputId": "3698d20a-45a8-498a-8b6b-3bedcecc0b1e"
      },
      "execution_count": 5,
      "outputs": [
        {
          "output_type": "stream",
          "name": "stdout",
          "text": [
            "Uppercase String: HELLO, WORLD!\n"
          ]
        }
      ]
    },
    {
      "cell_type": "code",
      "source": [
        "# 4. Convert a string to lowercase.\n",
        "original_string = \"Hello, World!\"\n",
        "lowercase_string = original_string.lower()\n",
        "print(f\"Lowercase String: {lowercase_string}\")\n"
      ],
      "metadata": {
        "colab": {
          "base_uri": "https://localhost:8080/"
        },
        "id": "kk7qRTyU15k-",
        "outputId": "67405476-54f6-47fd-854d-ed1251ce67cb"
      },
      "execution_count": 6,
      "outputs": [
        {
          "output_type": "stream",
          "name": "stdout",
          "text": [
            "Lowercase String: hello, world!\n"
          ]
        }
      ]
    },
    {
      "cell_type": "code",
      "source": [
        "# 5. Count the number of vowels in a string.\n",
        "def count_vowels(s):\n",
        "    vowels = \"aeiouAEIOU\"\n",
        "    return sum(1 for char in s if char in vowels)\n",
        "\n",
        "string_with_vowels = \"Hello, World!\"\n",
        "print(f\"Number of Vowels: {count_vowels(string_with_vowels)}\")"
      ],
      "metadata": {
        "colab": {
          "base_uri": "https://localhost:8080/"
        },
        "id": "UTXmM8CH15rE",
        "outputId": "75234e69-1c1d-45bf-ebf0-5a2a41ee4120"
      },
      "execution_count": 7,
      "outputs": [
        {
          "output_type": "stream",
          "name": "stdout",
          "text": [
            "Number of Vowels: 3\n"
          ]
        }
      ]
    },
    {
      "cell_type": "code",
      "source": [
        "# 6. Count the number of consonants in a string.\n",
        "def count_consonants(s):\n",
        "    consonants = \"bcdfghjklmnpqrstvwxyzBCDFGHJKLMNPQRSTVWXYZ\"\n",
        "    return sum(1 for char in s if char in consonants)\n",
        "\n",
        "string_with_consonants = \"Hello, World!\"\n",
        "print(f\"Number of Consonants: {count_consonants(string_with_consonants)}\")"
      ],
      "metadata": {
        "colab": {
          "base_uri": "https://localhost:8080/"
        },
        "id": "Ct06P-sE15xA",
        "outputId": "bf4f0dda-ef8a-4a9a-8738-5acba17f9c91"
      },
      "execution_count": 8,
      "outputs": [
        {
          "output_type": "stream",
          "name": "stdout",
          "text": [
            "Number of Consonants: 7\n"
          ]
        }
      ]
    },
    {
      "cell_type": "code",
      "source": [
        "# 7. Remove all whitespaces from a string.\n",
        "string_with_spaces = \"  Hello,   World!  \"\n",
        "no_whitespace_string = string_with_spaces.replace(\" \", \"\")\n",
        "print(f\"String without Whitespaces: {no_whitespace_string}\")"
      ],
      "metadata": {
        "colab": {
          "base_uri": "https://localhost:8080/"
        },
        "id": "L1CmlTgN152p",
        "outputId": "04e90f54-780a-4500-9268-0ab3273f5bea"
      },
      "execution_count": 9,
      "outputs": [
        {
          "output_type": "stream",
          "name": "stdout",
          "text": [
            "String without Whitespaces: Hello,World!\n"
          ]
        }
      ]
    },
    {
      "cell_type": "code",
      "source": [
        "\n",
        "# 8. Find the length of a string without using the len() function.\n",
        "string_to_measure = \"Hello, World!\"\n",
        "length_without_len = sum(1 for char in string_to_measure)\n",
        "print(f\"Length without len(): {length_without_len}\")"
      ],
      "metadata": {
        "colab": {
          "base_uri": "https://localhost:8080/"
        },
        "id": "nJaa637n158d",
        "outputId": "7ff18eb2-982c-4d73-c9fd-3c65700e6e1e"
      },
      "execution_count": 10,
      "outputs": [
        {
          "output_type": "stream",
          "name": "stdout",
          "text": [
            "Length without len(): 13\n"
          ]
        }
      ]
    },
    {
      "cell_type": "code",
      "source": [
        "# 9. Check if a string contains a specific word.\n",
        "string_to_search = \"Hello, World!\"\n",
        "word_to_find = \"World\"\n",
        "contains_word = word_to_find in string_to_search\n",
        "print(f\"Contains '{word_to_find}': {contains_word}\")"
      ],
      "metadata": {
        "colab": {
          "base_uri": "https://localhost:8080/"
        },
        "id": "mY1P3g0-16Cb",
        "outputId": "b0427733-2f01-4663-8edc-2c14b73bb8c0"
      },
      "execution_count": 11,
      "outputs": [
        {
          "output_type": "stream",
          "name": "stdout",
          "text": [
            "Contains 'World': True\n"
          ]
        }
      ]
    },
    {
      "cell_type": "code",
      "source": [
        "# 10. Replace a word in a string with another word.\n",
        "original_string = \"Hello, World!\"\n",
        "word_to_replace = \"World\"\n",
        "replacement_word = \"Universe\"\n",
        "modified_string = original_string.replace(word_to_replace, replacement_word)\n",
        "print(f\"Modified String: {modified_string}\")"
      ],
      "metadata": {
        "colab": {
          "base_uri": "https://localhost:8080/"
        },
        "id": "Ajasr1qz16IF",
        "outputId": "646308c5-e9f1-4802-be0e-af06c634e8e1"
      },
      "execution_count": 12,
      "outputs": [
        {
          "output_type": "stream",
          "name": "stdout",
          "text": [
            "Modified String: Hello, Universe!\n"
          ]
        }
      ]
    },
    {
      "cell_type": "code",
      "source": [
        "# 11. Count the occurrences of a word in a string.\n",
        "word_to_count = \"o\"\n",
        "occurrences_count = string_to_check.count(word_to_count)\n",
        "print(f\"Occurrences of '{word_to_count}': {occurrences_count}\")"
      ],
      "metadata": {
        "colab": {
          "base_uri": "https://localhost:8080/"
        },
        "id": "IjJoliso16No",
        "outputId": "e8be53cb-e3c0-4956-aff4-de31f868bb9c"
      },
      "execution_count": 13,
      "outputs": [
        {
          "output_type": "stream",
          "name": "stdout",
          "text": [
            "Occurrences of 'o': 0\n"
          ]
        }
      ]
    },
    {
      "cell_type": "code",
      "source": [
        "# 12. Find the first occurrence of a word in a string.\n",
        "first_occurrence_index = string_to_check.find(word_to_count)\n",
        "print(f\"First Occurrence of '{word_to_count}': {first_occurrence_index}\")"
      ],
      "metadata": {
        "colab": {
          "base_uri": "https://localhost:8080/"
        },
        "id": "gsa8yC9X16TT",
        "outputId": "de40db3e-4bee-4008-a79c-eb35318c7bad"
      },
      "execution_count": 14,
      "outputs": [
        {
          "output_type": "stream",
          "name": "stdout",
          "text": [
            "First Occurrence of 'o': -1\n"
          ]
        }
      ]
    },
    {
      "cell_type": "code",
      "source": [
        "\n",
        "# 13. Find the last occurrence of a word in a string.\n",
        "last_occurrence_index = string_to_check.rfind(word_to_count)\n",
        "print(f\"Last Occurrence of '{word_to_count}': {last_occurrence_index}\")\n"
      ],
      "metadata": {
        "colab": {
          "base_uri": "https://localhost:8080/"
        },
        "id": "YGNJXYh416Zv",
        "outputId": "5a9ad0a6-a2c3-4cf0-9d10-3329754eddfd"
      },
      "execution_count": 15,
      "outputs": [
        {
          "output_type": "stream",
          "name": "stdout",
          "text": [
            "Last Occurrence of 'o': -1\n"
          ]
        }
      ]
    },
    {
      "cell_type": "code",
      "source": [
        "# 14. Split a string into a list of words.\n",
        "string_to_split = \"Hello, World!\"\n",
        "split_words = string_to_split.split()\n",
        "print(f\"Split Words: {split_words}\")"
      ],
      "metadata": {
        "colab": {
          "base_uri": "https://localhost:8080/"
        },
        "id": "2psONlc616hO",
        "outputId": "0b5fc924-63b0-46b1-848e-2ee0900f1efc"
      },
      "execution_count": 16,
      "outputs": [
        {
          "output_type": "stream",
          "name": "stdout",
          "text": [
            "Split Words: ['Hello,', 'World!']\n"
          ]
        }
      ]
    },
    {
      "cell_type": "code",
      "execution_count": 17,
      "metadata": {
        "colab": {
          "base_uri": "https://localhost:8080/"
        },
        "id": "QTEomOO_1YqL",
        "outputId": "d0d7f82e-a5e7-4e2f-b623-f78fbba2b4b0"
      },
      "outputs": [
        {
          "output_type": "stream",
          "name": "stdout",
          "text": [
            "Joined String: Hello World!\n"
          ]
        }
      ],
      "source": [
        "\n",
        "\n",
        "# 15. Join a list of words into a string.\n",
        "words_to_join = [\"Hello\", \"World!\"]\n",
        "joined_string = \" \".join(words_to_join)\n",
        "print(f\"Joined String: {joined_string}\")\n"
      ]
    },
    {
      "cell_type": "code",
      "source": [
        "# 16. Convert a string where words are separated by spaces to one where words are separated by underscores.\n",
        "original_string = \"Hello World Example\"\n",
        "underscored_string = \"_\".join(original_string.split())\n",
        "print(f\"Underscored String: {underscored_string}\")"
      ],
      "metadata": {
        "colab": {
          "base_uri": "https://localhost:8080/"
        },
        "id": "l5ndyfHO2jqP",
        "outputId": "6fc6adf7-caf4-401c-d200-0ee097bd04d1"
      },
      "execution_count": 18,
      "outputs": [
        {
          "output_type": "stream",
          "name": "stdout",
          "text": [
            "Underscored String: Hello_World_Example\n"
          ]
        }
      ]
    },
    {
      "cell_type": "code",
      "source": [
        "\n",
        "# 17. Check if a string starts with a specific word or phrase.\n",
        "string_to_check_start = \"Hello, World!\"\n",
        "starts_with_word = string_to_check_start.startswith(\"Hello\")\n",
        "print(f\"Starts with 'Hello': {starts_with_word}\")"
      ],
      "metadata": {
        "colab": {
          "base_uri": "https://localhost:8080/"
        },
        "id": "DLhQ07oK2zQV",
        "outputId": "7cf3597c-5186-437d-efbe-4a37eace28f7"
      },
      "execution_count": 19,
      "outputs": [
        {
          "output_type": "stream",
          "name": "stdout",
          "text": [
            "Starts with 'Hello': True\n"
          ]
        }
      ]
    },
    {
      "cell_type": "code",
      "source": [
        "# 18. Check if a string ends with a specific word or phrase.\n",
        "string_to_check_end = \"Hello, World!\"\n",
        "ends_with_word = string_to_check_end.endswith(\"World!\")\n",
        "print(f\"Ends with 'World!': {ends_with_word}\")"
      ],
      "metadata": {
        "colab": {
          "base_uri": "https://localhost:8080/"
        },
        "id": "fn5Viiwp2zXG",
        "outputId": "2cb798bb-a660-4051-add3-0635cf918427"
      },
      "execution_count": 20,
      "outputs": [
        {
          "output_type": "stream",
          "name": "stdout",
          "text": [
            "Ends with 'World!': True\n"
          ]
        }
      ]
    },
    {
      "cell_type": "code",
      "source": [
        "# 19. Convert a string to title case (e.g., \"hello world\" to \"Hello World\").\n",
        "string_to_title_case = \"hello world\"\n",
        "title_case_string = string_to_title_case.title()\n",
        "print(f\"Title Case String: {title_case_string}\")"
      ],
      "metadata": {
        "colab": {
          "base_uri": "https://localhost:8080/"
        },
        "id": "ZccQotcU2zdP",
        "outputId": "0d1f3188-4e57-4b1f-a48e-445fdfa8771e"
      },
      "execution_count": 21,
      "outputs": [
        {
          "output_type": "stream",
          "name": "stdout",
          "text": [
            "Title Case String: Hello World\n"
          ]
        }
      ]
    },
    {
      "cell_type": "code",
      "source": [
        "# 20. Find the longest word in a string.\n",
        "longest_word = max(string_to_split.split(), key=len)\n",
        "print(f\"Longest Word: {longest_word}\")"
      ],
      "metadata": {
        "colab": {
          "base_uri": "https://localhost:8080/"
        },
        "id": "oW2Bdq252zjI",
        "outputId": "1fe032b1-4c7c-48bb-ea8e-cd790cd54728"
      },
      "execution_count": 22,
      "outputs": [
        {
          "output_type": "stream",
          "name": "stdout",
          "text": [
            "Longest Word: Hello,\n"
          ]
        }
      ]
    },
    {
      "cell_type": "code",
      "source": [
        "\n",
        "# 21. Find the shortest word in a string.\n",
        "shortest_word = min(string_to_split.split(), key=len)\n",
        "print(f\"Shortest Word: {shortest_word}\")"
      ],
      "metadata": {
        "colab": {
          "base_uri": "https://localhost:8080/"
        },
        "id": "DaVuMvAh2znR",
        "outputId": "4aca42a2-f609-4a54-a075-9eb54463c087"
      },
      "execution_count": 23,
      "outputs": [
        {
          "output_type": "stream",
          "name": "stdout",
          "text": [
            "Shortest Word: Hello,\n"
          ]
        }
      ]
    },
    {
      "cell_type": "code",
      "source": [
        "\n",
        "# 22. Reverse the order of words in a string.\n",
        "reversed_words_string = \" \".join(reversed(string_to_split.split()))\n",
        "print(f\"Reversed Words String: {reversed_words_string}\")"
      ],
      "metadata": {
        "colab": {
          "base_uri": "https://localhost:8080/"
        },
        "id": "o_tQGyxv2zrS",
        "outputId": "4dec3e38-4f53-4d5a-a81c-9e11ecb8b366"
      },
      "execution_count": 24,
      "outputs": [
        {
          "output_type": "stream",
          "name": "stdout",
          "text": [
            "Reversed Words String: World! Hello,\n"
          ]
        }
      ]
    },
    {
      "cell_type": "code",
      "source": [
        "# 23. Check if a string is alphanumeric.\n",
        "alphanumeric_string = \"Hello123\"\n",
        "is_alphanumeric = alphanumeric_string.isalnum()\n",
        "print(f\"Is Alphanumeric: {is_alphanumeric}\")"
      ],
      "metadata": {
        "colab": {
          "base_uri": "https://localhost:8080/"
        },
        "id": "GMR-aJcS2zvh",
        "outputId": "d1879625-0877-4eb2-f955-de6e637b1c5f"
      },
      "execution_count": 25,
      "outputs": [
        {
          "output_type": "stream",
          "name": "stdout",
          "text": [
            "Is Alphanumeric: True\n"
          ]
        }
      ]
    },
    {
      "cell_type": "code",
      "source": [
        "\n",
        "# 24. Extract all digits from a string.\n",
        "digits_in_string = \"\".join(char for char in alphanumeric_string if char.isdigit())\n",
        "print(f\"Digits in String: {digits_in_string}\")"
      ],
      "metadata": {
        "colab": {
          "base_uri": "https://localhost:8080/"
        },
        "id": "61xEs3Kf2zzs",
        "outputId": "8a9c4d9c-f136-49eb-aedf-77633c5fcbca"
      },
      "execution_count": 26,
      "outputs": [
        {
          "output_type": "stream",
          "name": "stdout",
          "text": [
            "Digits in String: 123\n"
          ]
        }
      ]
    },
    {
      "cell_type": "code",
      "source": [
        "\n",
        "# 25. Extract all alphabets from a string.\n",
        "alphabets_in_string = \"\".join(char for char in alphanumeric_string if char.isalpha())\n",
        "print(f\"Alphabets in String: {alphabets_in_string}\")\n"
      ],
      "metadata": {
        "colab": {
          "base_uri": "https://localhost:8080/"
        },
        "id": "fIt5Gylr2z3g",
        "outputId": "38fe31cf-2a9e-469b-b49a-635a94c51cee"
      },
      "execution_count": 27,
      "outputs": [
        {
          "output_type": "stream",
          "name": "stdout",
          "text": [
            "Alphabets in String: Hello\n"
          ]
        }
      ]
    },
    {
      "cell_type": "code",
      "source": [
        "\n",
        "# 26. Count the number of uppercase letters in a string.\n",
        "uppercase_count = sum(1 for char in alphanumeric_string if char.isupper())\n",
        "print(f\"Uppercase Letters Count: {uppercase_count}\")"
      ],
      "metadata": {
        "colab": {
          "base_uri": "https://localhost:8080/"
        },
        "id": "uCuKlKfs2z7t",
        "outputId": "b3ab7caa-f7c4-4404-dc7f-ad778de0af30"
      },
      "execution_count": 28,
      "outputs": [
        {
          "output_type": "stream",
          "name": "stdout",
          "text": [
            "Uppercase Letters Count: 1\n"
          ]
        }
      ]
    },
    {
      "cell_type": "code",
      "source": [
        "\n",
        "\n",
        "# 27. Count the number of lowercase letters in a string.\n",
        "lowercase_count = sum(1 for char in alphanumeric_string if char.islower())\n",
        "print(f\"Lowercase Letters Count: {lowercase_count}\")\n"
      ],
      "metadata": {
        "colab": {
          "base_uri": "https://localhost:8080/"
        },
        "id": "YzfWT6AH2z_0",
        "outputId": "68ab752a-bab9-4f89-f9d0-42910b697ddd"
      },
      "execution_count": 29,
      "outputs": [
        {
          "output_type": "stream",
          "name": "stdout",
          "text": [
            "Lowercase Letters Count: 4\n"
          ]
        }
      ]
    },
    {
      "cell_type": "code",
      "source": [
        "\n",
        "# 28. Swap the case of each character in a string.\n",
        "swapped_case_string = alphanumeric_string.swapcase()\n",
        "print(f\"Swapped Case String: {swapped_case_string}\")\n",
        "\n"
      ],
      "metadata": {
        "colab": {
          "base_uri": "https://localhost:8080/"
        },
        "id": "0dgfHF-G20DM",
        "outputId": "2469d3ed-6c45-4af9-e8bf-b53f3132b617"
      },
      "execution_count": 30,
      "outputs": [
        {
          "output_type": "stream",
          "name": "stdout",
          "text": [
            "Swapped Case String: hELLO123\n"
          ]
        }
      ]
    },
    {
      "cell_type": "code",
      "source": [
        "\n",
        "# 29. Remove a specific word from a string.\n",
        "word_to_remove = \"Hello\"\n",
        "string_without_word = \" \".join(word for word in string_to_split.split() if word != word_to_remove)\n",
        "print(f\"String without 'Hello': {string_without_word}\")\n"
      ],
      "metadata": {
        "colab": {
          "base_uri": "https://localhost:8080/"
        },
        "id": "n5KzepQi3Ph5",
        "outputId": "5a7bc2b8-e288-447a-fac5-9955626f27ef"
      },
      "execution_count": 31,
      "outputs": [
        {
          "output_type": "stream",
          "name": "stdout",
          "text": [
            "String without 'Hello': Hello, World!\n"
          ]
        }
      ]
    },
    {
      "cell_type": "code",
      "source": [
        "# 30. Check if a string is a valid email address.\n",
        "import re\n",
        "\n",
        "def is_valid_email(email):\n",
        "    email_regex = r'^[\\w\\.-]+@[\\w\\.-]+\\.\\w+$'\n",
        "    return bool(re.match(email_regex, email))\n",
        "\n",
        "email_to_check = \"test@example.com\"\n",
        "print(f\"Is Valid Email: {is_valid_email(email_to_check)}\")"
      ],
      "metadata": {
        "colab": {
          "base_uri": "https://localhost:8080/"
        },
        "id": "4qVkH2Jc3Ppq",
        "outputId": "2deccd1c-298e-4ae7-9ef1-944374654a2b"
      },
      "execution_count": 32,
      "outputs": [
        {
          "output_type": "stream",
          "name": "stdout",
          "text": [
            "Is Valid Email: True\n"
          ]
        }
      ]
    },
    {
      "cell_type": "code",
      "source": [
        "# 31. Extract the username from an email address string.\n",
        "email_address = \"user@example.com\"\n",
        "username = email_address.split('@')[0]\n",
        "print(f\"Username: {username}\")"
      ],
      "metadata": {
        "colab": {
          "base_uri": "https://localhost:8080/"
        },
        "id": "MmPe4QiT3bJt",
        "outputId": "74aed075-43b8-4fa9-a459-657074a71d83"
      },
      "execution_count": 33,
      "outputs": [
        {
          "output_type": "stream",
          "name": "stdout",
          "text": [
            "Username: user\n"
          ]
        }
      ]
    },
    {
      "cell_type": "code",
      "source": [
        "# 32. Extract the domain name from an email address string.\n",
        "domain_name = email_address.split('@')[1]\n",
        "print(f\"Domain Name: {domain_name}\")"
      ],
      "metadata": {
        "colab": {
          "base_uri": "https://localhost:8080/"
        },
        "id": "K2AuuanZ3yzA",
        "outputId": "422df620-b2fe-4678-ba61-73de627813a9"
      },
      "execution_count": 34,
      "outputs": [
        {
          "output_type": "stream",
          "name": "stdout",
          "text": [
            "Domain Name: example.com\n"
          ]
        }
      ]
    },
    {
      "cell_type": "code",
      "source": [
        "\n",
        "# 33. Replace multiple spaces in a string with a single space.\n",
        "string_with_multiple_spaces = \"Hello    World   Example\"\n",
        "single_space_string = \" \".join(string_with_multiple_spaces.split())\n",
        "print(f\"Single Space String: {single_space_string}\")"
      ],
      "metadata": {
        "colab": {
          "base_uri": "https://localhost:8080/"
        },
        "id": "nmgcOWRl3y5Q",
        "outputId": "cc2b6eaf-21d4-41f6-a87a-9a72226e66dd"
      },
      "execution_count": 35,
      "outputs": [
        {
          "output_type": "stream",
          "name": "stdout",
          "text": [
            "Single Space String: Hello World Example\n"
          ]
        }
      ]
    },
    {
      "cell_type": "code",
      "source": [
        "\n",
        "\n",
        "# 34. Check if a string is a valid URL.\n",
        "url_to_check = \"https://www.example.com\"\n",
        "is_valid_url = re.match(r'^https?://\\S+$', url_to_check)\n",
        "print(f\"Is Valid URL: {bool(is_valid_url)}\")"
      ],
      "metadata": {
        "colab": {
          "base_uri": "https://localhost:8080/"
        },
        "id": "U_sTmisn3y_4",
        "outputId": "d0120dde-983d-4828-fc05-7537fb2f65ea"
      },
      "execution_count": 36,
      "outputs": [
        {
          "output_type": "stream",
          "name": "stdout",
          "text": [
            "Is Valid URL: True\n"
          ]
        }
      ]
    },
    {
      "cell_type": "code",
      "source": [
        "# 35. Extract the protocol (http or https) from a URL string.\n",
        "protocol = url_to_check.split(':')[0]\n",
        "print(f\"Protocol: {protocol}\")"
      ],
      "metadata": {
        "colab": {
          "base_uri": "https://localhost:8080/"
        },
        "id": "guZs9Z_A3zEW",
        "outputId": "3849f676-ff58-4de6-db98-2145eb851ce1"
      },
      "execution_count": 37,
      "outputs": [
        {
          "output_type": "stream",
          "name": "stdout",
          "text": [
            "Protocol: https\n"
          ]
        }
      ]
    },
    {
      "cell_type": "code",
      "source": [
        "\n",
        "# 36. Find the frequency of each character in a string.\n",
        "character_frequency = {char: string_to_split.count(char) for char in set(string_to_split)}\n",
        "print(f\"Character Frequency: {character_frequency}\")\n"
      ],
      "metadata": {
        "colab": {
          "base_uri": "https://localhost:8080/"
        },
        "id": "fkgeiWck3zIw",
        "outputId": "28a67d83-efdd-40de-fe25-e53bce51028d"
      },
      "execution_count": 38,
      "outputs": [
        {
          "output_type": "stream",
          "name": "stdout",
          "text": [
            "Character Frequency: {' ': 1, 'r': 1, 'd': 1, 'o': 2, ',': 1, 'W': 1, '!': 1, 'l': 3, 'e': 1, 'H': 1}\n"
          ]
        }
      ]
    },
    {
      "cell_type": "code",
      "source": [
        "# 37. Remove all punctuation from a string.\n",
        "import re\n",
        "string_with_punctuation = input()\n",
        "punctuation = r'[!\\\"#$%&\\'()*+,-./:;<=>?@[\\\\]^_`{|}~]'\n",
        "string_without_punctuation = re.sub(punctuation, '', string_with_punctuation)\n",
        "print(f\"String without Punctuation: {string_without_punctuation}\")\n"
      ],
      "metadata": {
        "colab": {
          "base_uri": "https://localhost:8080/"
        },
        "id": "kWuIkuFa3zN2",
        "outputId": "53ce0ef3-c431-4a82-b655-52a138cdc323"
      },
      "execution_count": 43,
      "outputs": [
        {
          "output_type": "stream",
          "name": "stdout",
          "text": [
            "hello.'\n",
            "String without Punctuation: hello.'\n"
          ]
        }
      ]
    },
    {
      "cell_type": "code",
      "source": [
        "\n",
        "# 38. Check if a string contains only digits.\n",
        "is_digits_only = string_to_split.isdigit()\n",
        "print(f\"Contains Only Digits: {is_digits_only}\")"
      ],
      "metadata": {
        "colab": {
          "base_uri": "https://localhost:8080/"
        },
        "id": "VBD0pSe73zR3",
        "outputId": "24d2a29b-d558-40bc-9ff3-7cfdfb3ef832"
      },
      "execution_count": 40,
      "outputs": [
        {
          "output_type": "stream",
          "name": "stdout",
          "text": [
            "Contains Only Digits: False\n"
          ]
        }
      ]
    },
    {
      "cell_type": "code",
      "source": [
        "\n",
        "# 39. Check if a string contains only alphabets.\n",
        "is_alpha_only = string_to_split.isalpha()\n",
        "print(f\"Contains Only Alphabets: {is_alpha_only}\")"
      ],
      "metadata": {
        "colab": {
          "base_uri": "https://localhost:8080/"
        },
        "id": "RunrtYQh3zWk",
        "outputId": "6352e5fe-0a68-42d3-fd57-c1e581833db4"
      },
      "execution_count": 41,
      "outputs": [
        {
          "output_type": "stream",
          "name": "stdout",
          "text": [
            "Contains Only Alphabets: False\n"
          ]
        }
      ]
    },
    {
      "cell_type": "code",
      "source": [
        "\n",
        "\n",
        "# 40. Convert a string to a list of characters.\n",
        "list_of_characters = list(string_to_split)\n",
        "print(f\"List of Characters: {list_of_characters}\")"
      ],
      "metadata": {
        "colab": {
          "base_uri": "https://localhost:8080/"
        },
        "id": "YglkY4LE3zaw",
        "outputId": "305bbfaf-1d82-4233-f794-82354861522c"
      },
      "execution_count": 42,
      "outputs": [
        {
          "output_type": "stream",
          "name": "stdout",
          "text": [
            "List of Characters: ['H', 'e', 'l', 'l', 'o', ',', ' ', 'W', 'o', 'r', 'l', 'd', '!']\n"
          ]
        }
      ]
    },
    {
      "cell_type": "code",
      "source": [
        "# 41. Check if two strings are anagrams.\n",
        "def are_anagrams(str1, str2):\n",
        "    return sorted(str1) == sorted(str2)\n",
        "\n",
        "string1 = \"listen\"\n",
        "string2 = \"silent\"\n",
        "print(f\"Are Anagrams: {are_anagrams(string1, string2)}\")"
      ],
      "metadata": {
        "colab": {
          "base_uri": "https://localhost:8080/"
        },
        "id": "oksCKNRF3zfI",
        "outputId": "62e6723f-1302-4c36-cfc4-5193ba97e641"
      },
      "execution_count": 44,
      "outputs": [
        {
          "output_type": "stream",
          "name": "stdout",
          "text": [
            "Are Anagrams: True\n"
          ]
        }
      ]
    },
    {
      "cell_type": "code",
      "source": [
        "\n",
        "# 42. Encode a string using a Caesar cipher.\n",
        "def caesar_cipher_encode(text, shift):\n",
        "    encoded_text = ''.join([chr((ord(char) - ord('a') + shift) % 26 + ord('a')) for char in text.lower() if char.isalpha()])\n",
        "    return encoded_text\n",
        "\n",
        "text_to_encode = \"hello\"\n",
        "shift_value = 3\n",
        "encoded_text = caesar_cipher_encode(text_to_encode, shift_value)\n",
        "print(f\"Encoded Text: {encoded_text}\")\n",
        "\n"
      ],
      "metadata": {
        "colab": {
          "base_uri": "https://localhost:8080/"
        },
        "id": "DadrkYiy3zjr",
        "outputId": "e1bf143a-9eb3-4513-81d3-501bae31d655"
      },
      "execution_count": 45,
      "outputs": [
        {
          "output_type": "stream",
          "name": "stdout",
          "text": [
            "Encoded Text: khoor\n"
          ]
        }
      ]
    },
    {
      "cell_type": "code",
      "source": [
        "# 43. Decode a Caesar cipher encoded string.\n",
        "def caesar_cipher_decode(encoded_text, shift):\n",
        "    return caesar_cipher_encode(encoded_text, -shift)\n",
        "\n",
        "decoded_text = caesar_cipher_decode(encoded_text, shift_value)\n",
        "print(f\"Decoded Text: {decoded_text}\")\n"
      ],
      "metadata": {
        "colab": {
          "base_uri": "https://localhost:8080/"
        },
        "id": "ncRllfwM3zsz",
        "outputId": "91c3d7d2-8c19-4d6c-b47f-4200bfedb52d"
      },
      "execution_count": 46,
      "outputs": [
        {
          "output_type": "stream",
          "name": "stdout",
          "text": [
            "Decoded Text: hello\n"
          ]
        }
      ]
    },
    {
      "cell_type": "code",
      "source": [
        "# 44. Find the most frequent word in a string.\n",
        "most_frequent_word = max(string_to_split.split(), key=string_to_split.split().count)\n",
        "print(f\"Most Frequent Word: {most_frequent_word}\")\n"
      ],
      "metadata": {
        "colab": {
          "base_uri": "https://localhost:8080/"
        },
        "id": "_AVT3Ajw3zwC",
        "outputId": "0246f006-5fb0-4cf4-a355-ff8cbf9c4d81"
      },
      "execution_count": 47,
      "outputs": [
        {
          "output_type": "stream",
          "name": "stdout",
          "text": [
            "Most Frequent Word: Hello,\n"
          ]
        }
      ]
    },
    {
      "cell_type": "code",
      "source": [
        "# 45. Find all unique words in a string.\n",
        "unique_words = set(string_to_split.split())\n",
        "print(f\"Unique Words: {unique_words}\")\n",
        "\n"
      ],
      "metadata": {
        "colab": {
          "base_uri": "https://localhost:8080/"
        },
        "id": "X3W4PdJg3z2C",
        "outputId": "47ce4a1d-4ed6-46d8-d093-131dfb6936ee"
      },
      "execution_count": 48,
      "outputs": [
        {
          "output_type": "stream",
          "name": "stdout",
          "text": [
            "Unique Words: {'World!', 'Hello,'}\n"
          ]
        }
      ]
    },
    {
      "cell_type": "code",
      "source": [
        "\n",
        "# 46. Count the number of syllables in a string.\n",
        "def count_syllables(word):\n",
        "    return max(1, len(re.findall(r'[aeiouy]+', word.lower())))\n",
        "\n",
        "syllable_count = sum(count_syllables(word) for word in string_to_split.split())\n",
        "print(f\"Syllable Count: {syllable_count}\")\n"
      ],
      "metadata": {
        "colab": {
          "base_uri": "https://localhost:8080/"
        },
        "id": "ToEq71jQ3z5h",
        "outputId": "bfaccc05-bb42-4be9-b148-1cad8fc0edd8"
      },
      "execution_count": 49,
      "outputs": [
        {
          "output_type": "stream",
          "name": "stdout",
          "text": [
            "Syllable Count: 3\n"
          ]
        }
      ]
    },
    {
      "cell_type": "code",
      "source": [
        "import re\n",
        "\n",
        "string_with_special_characters = input(\"Enter string : \")\n",
        "has_special_characters = bool(re.search(r'[!@#\\$%\\^&\\*\\(\\)_\\+\\-=\\[\\]\\{\\};:\\'\",<>\\./?\\\\|`~]', string_with_special_characters))\n",
        "print(f\"Contains Special Characters: {has_special_characters}\")\n",
        "\n"
      ],
      "metadata": {
        "colab": {
          "base_uri": "https://localhost:8080/"
        },
        "id": "rFMGIEjT3z_l",
        "outputId": "ce2f38b7-e6ab-495a-ec5a-a0e81341e614"
      },
      "execution_count": 57,
      "outputs": [
        {
          "output_type": "stream",
          "name": "stdout",
          "text": [
            "Enter string : helow;'djd/.,\n",
            "Contains Special Characters: True\n"
          ]
        }
      ]
    },
    {
      "cell_type": "code",
      "source": [
        "\n",
        "# 48. Remove the nth word from a string.\n",
        "n = 2\n",
        "string_without_nth_word = \" \".join(word for i, word in enumerate(string_to_split.split()) if i != n-1)\n",
        "print(f\"String without {n}th Word: {string_without_nth_word}\")\n"
      ],
      "metadata": {
        "colab": {
          "base_uri": "https://localhost:8080/"
        },
        "id": "CuWoUWxX30DC",
        "outputId": "c6b99939-a5c1-484a-f7fd-b6ae30ff0f70"
      },
      "execution_count": 53,
      "outputs": [
        {
          "output_type": "stream",
          "name": "stdout",
          "text": [
            "String without 2th Word: Hello,\n"
          ]
        }
      ]
    },
    {
      "cell_type": "code",
      "source": [
        "# 49. Insert a word at the nth position in a string.\n",
        "word_to_insert = \"NewWord\"\n",
        "position_to_insert = 2\n",
        "string_with_inserted_word = \" \".join(word_to_insert if i == position_to_insert-1 else word for i, word in enumerate(string_to_split.split()))\n",
        "print(f\"String with Inserted Word: {string_with_inserted_word}\")\n"
      ],
      "metadata": {
        "colab": {
          "base_uri": "https://localhost:8080/"
        },
        "id": "zRC0MgTV30Is",
        "outputId": "410732ea-2934-4d86-d926-c1244c4e8ea1"
      },
      "execution_count": 54,
      "outputs": [
        {
          "output_type": "stream",
          "name": "stdout",
          "text": [
            "String with Inserted Word: Hello, NewWord\n"
          ]
        }
      ]
    },
    {
      "cell_type": "code",
      "source": [
        "\n",
        "# 50. Convert a CSV string to a list of lists.\n",
        "csv_string = \"1,John,Doe\\n2,Jane,Smith\\n3,Bob,Johnson\"\n",
        "list_of_lists = [line.split(',') for line in csv_string.split('\\n') if line]\n",
        "print(f\"List of Lists: {list_of_lists}\")"
      ],
      "metadata": {
        "colab": {
          "base_uri": "https://localhost:8080/"
        },
        "id": "Fmf6pPgR30Sl",
        "outputId": "66db6bf8-606e-4c67-83a0-f728b0f94f09"
      },
      "execution_count": 55,
      "outputs": [
        {
          "output_type": "stream",
          "name": "stdout",
          "text": [
            "List of Lists: [['1', 'John', 'Doe'], ['2', 'Jane', 'Smith'], ['3', 'Bob', 'Johnson']]\n"
          ]
        }
      ]
    },
    {
      "cell_type": "code",
      "source": [
        "# LIST BASED PROBLEMS"
      ],
      "metadata": {
        "id": "da4b3ckv5Nao"
      },
      "execution_count": 58,
      "outputs": []
    },
    {
      "cell_type": "code",
      "source": [
        "# 1. Create a list with integers from 1 to 10.\n",
        "integer_list = list(range(1, 11))\n",
        "print(f\"Integer List: {integer_list}\")"
      ],
      "metadata": {
        "colab": {
          "base_uri": "https://localhost:8080/"
        },
        "id": "1F1eRUhc6zR7",
        "outputId": "7d709ec4-0b15-47c1-d1a2-d605c9a05d45"
      },
      "execution_count": 59,
      "outputs": [
        {
          "output_type": "stream",
          "name": "stdout",
          "text": [
            "Integer List: [1, 2, 3, 4, 5, 6, 7, 8, 9, 10]\n"
          ]
        }
      ]
    },
    {
      "cell_type": "code",
      "source": [
        "\n",
        "# 2. Find the length of a list without using the `len()` function.\n",
        "length_of_list = sum(1 for _ in integer_list)\n",
        "print(f\"Length of List: {length_of_list}\")\n"
      ],
      "metadata": {
        "colab": {
          "base_uri": "https://localhost:8080/"
        },
        "id": "-9CVmFNv60G4",
        "outputId": "0972c3f3-138c-4324-fe3a-894378e72e9f"
      },
      "execution_count": 60,
      "outputs": [
        {
          "output_type": "stream",
          "name": "stdout",
          "text": [
            "Length of List: 10\n"
          ]
        }
      ]
    },
    {
      "cell_type": "code",
      "source": [
        "\n",
        "# 3. Append an element to the end of a list.\n",
        "element_to_append = 11\n",
        "integer_list.append(element_to_append)\n",
        "print(f\"List after Append: {integer_list}\")"
      ],
      "metadata": {
        "colab": {
          "base_uri": "https://localhost:8080/"
        },
        "id": "RWxYtI4x60MJ",
        "outputId": "1a9d7d8e-8b00-4325-c2a8-61a6aed0ffac"
      },
      "execution_count": 61,
      "outputs": [
        {
          "output_type": "stream",
          "name": "stdout",
          "text": [
            "List after Append: [1, 2, 3, 4, 5, 6, 7, 8, 9, 10, 11]\n"
          ]
        }
      ]
    },
    {
      "cell_type": "code",
      "source": [
        "\n",
        "\n",
        "\n",
        "# 4. Insert an element at a specific index in a list.\n",
        "element_to_insert = 0\n",
        "index_to_insert = 2\n",
        "integer_list.insert(index_to_insert, element_to_insert)\n",
        "print(f\"List after Insert: {integer_list}\")"
      ],
      "metadata": {
        "colab": {
          "base_uri": "https://localhost:8080/"
        },
        "id": "mhVNjsun60Ro",
        "outputId": "180757d5-5d6f-49a7-9d15-7b68705df84a"
      },
      "execution_count": 62,
      "outputs": [
        {
          "output_type": "stream",
          "name": "stdout",
          "text": [
            "List after Insert: [1, 2, 0, 3, 4, 5, 6, 7, 8, 9, 10, 11]\n"
          ]
        }
      ]
    },
    {
      "cell_type": "code",
      "source": [
        "\n",
        "\n",
        "\n",
        "# 5. Remove an element from a list by its value.\n",
        "element_to_remove = 5\n",
        "integer_list.remove(element_to_remove)\n",
        "print(f\"List after Remove by Value: {integer_list}\")"
      ],
      "metadata": {
        "colab": {
          "base_uri": "https://localhost:8080/"
        },
        "id": "fRMvGxZm60YA",
        "outputId": "c7090312-2802-460c-c216-5e8b4f0d6966"
      },
      "execution_count": 63,
      "outputs": [
        {
          "output_type": "stream",
          "name": "stdout",
          "text": [
            "List after Remove by Value: [1, 2, 0, 3, 4, 6, 7, 8, 9, 10, 11]\n"
          ]
        }
      ]
    },
    {
      "cell_type": "code",
      "source": [
        "# 6. Remove an element from a list by its index.\n",
        "index_to_remove = 3\n",
        "del integer_list[index_to_remove]\n",
        "print(f\"List after Remove by Index: {integer_list}\")"
      ],
      "metadata": {
        "colab": {
          "base_uri": "https://localhost:8080/"
        },
        "id": "dENriW8J60dU",
        "outputId": "9fba9229-0b48-4510-a96d-0d5e42f11e9a"
      },
      "execution_count": 64,
      "outputs": [
        {
          "output_type": "stream",
          "name": "stdout",
          "text": [
            "List after Remove by Index: [1, 2, 0, 4, 6, 7, 8, 9, 10, 11]\n"
          ]
        }
      ]
    },
    {
      "cell_type": "code",
      "source": [
        "# 7. Check if an element exists in a list.\n",
        "element_to_check = 7\n",
        "element_exists = element_to_check in integer_list\n",
        "print(f\"Element {element_to_check} Exists: {element_exists}\")"
      ],
      "metadata": {
        "colab": {
          "base_uri": "https://localhost:8080/"
        },
        "id": "rFNO2UTG60in",
        "outputId": "46608ab1-9df7-46b9-af81-b2b9148c352d"
      },
      "execution_count": 65,
      "outputs": [
        {
          "output_type": "stream",
          "name": "stdout",
          "text": [
            "Element 7 Exists: True\n"
          ]
        }
      ]
    },
    {
      "cell_type": "code",
      "source": [
        "\n",
        "# 8. Find the index of the first occurrence of an element in a list.\n",
        "index_of_element = integer_list.index(element_to_check)\n",
        "print(f\"Index of Element {element_to_check}: {index_of_element}\")"
      ],
      "metadata": {
        "colab": {
          "base_uri": "https://localhost:8080/"
        },
        "id": "6fEFnixf60n5",
        "outputId": "cd1d3597-828e-4061-c957-fbb018d4ed74"
      },
      "execution_count": 66,
      "outputs": [
        {
          "output_type": "stream",
          "name": "stdout",
          "text": [
            "Index of Element 7: 5\n"
          ]
        }
      ]
    },
    {
      "cell_type": "code",
      "source": [
        "# 9. Count the occurrences of an element in a list.\n",
        "occurrences_of_element = integer_list.count(element_to_check)\n",
        "print(f\"Occurrences of Element {element_to_check}: {occurrences_of_element}\")"
      ],
      "metadata": {
        "colab": {
          "base_uri": "https://localhost:8080/"
        },
        "id": "vTXs_rTs60tW",
        "outputId": "1f06335a-7fe6-4272-cfe4-1bf87cfbf4da"
      },
      "execution_count": 67,
      "outputs": [
        {
          "output_type": "stream",
          "name": "stdout",
          "text": [
            "Occurrences of Element 7: 1\n"
          ]
        }
      ]
    },
    {
      "cell_type": "code",
      "source": [
        "\n",
        "# 10. Reverse the order of elements in a list.\n",
        "reversed_list = list(reversed(integer_list))\n",
        "print(f\"Reversed List: {reversed_list}\")"
      ],
      "metadata": {
        "colab": {
          "base_uri": "https://localhost:8080/"
        },
        "id": "lfbHnsdI60xg",
        "outputId": "ff8a0a33-5aba-4cfa-a587-c2deda8ee12c"
      },
      "execution_count": 68,
      "outputs": [
        {
          "output_type": "stream",
          "name": "stdout",
          "text": [
            "Reversed List: [11, 10, 9, 8, 7, 6, 4, 0, 2, 1]\n"
          ]
        }
      ]
    },
    {
      "cell_type": "code",
      "source": [
        "\n",
        "# 11. Sort a list in ascending order.\n",
        "ascending_sorted_list = sorted(integer_list)\n",
        "print(f\"Ascending Sorted List: {ascending_sorted_list}\")"
      ],
      "metadata": {
        "colab": {
          "base_uri": "https://localhost:8080/"
        },
        "id": "eImb59Eq601a",
        "outputId": "0ddae228-eafc-4b08-ebc6-c5507aee197e"
      },
      "execution_count": 69,
      "outputs": [
        {
          "output_type": "stream",
          "name": "stdout",
          "text": [
            "Ascending Sorted List: [0, 1, 2, 4, 6, 7, 8, 9, 10, 11]\n"
          ]
        }
      ]
    },
    {
      "cell_type": "code",
      "source": [
        "\n",
        "\n",
        "# 12. Sort a list in descending order.\n",
        "descending_sorted_list = sorted(integer_list, reverse=True)\n",
        "print(f\"Descending Sorted List: {descending_sorted_list}\")\n"
      ],
      "metadata": {
        "colab": {
          "base_uri": "https://localhost:8080/"
        },
        "id": "iwrVGTKs605U",
        "outputId": "1b1059e0-1905-45ab-f317-4d7fe023caea"
      },
      "execution_count": 70,
      "outputs": [
        {
          "output_type": "stream",
          "name": "stdout",
          "text": [
            "Descending Sorted List: [11, 10, 9, 8, 7, 6, 4, 2, 1, 0]\n"
          ]
        }
      ]
    },
    {
      "cell_type": "code",
      "source": [
        "\n",
        "# 13. Create a list of even numbers from 1 to 20.\n",
        "even_numbers_list = list(range(2, 21, 2))\n",
        "print(f\"Even Numbers List: {even_numbers_list}\")\n"
      ],
      "metadata": {
        "colab": {
          "base_uri": "https://localhost:8080/"
        },
        "id": "XgT7xLoq61Bd",
        "outputId": "5b4f0b29-83fa-4dd7-9130-6e1848e04d96"
      },
      "execution_count": 71,
      "outputs": [
        {
          "output_type": "stream",
          "name": "stdout",
          "text": [
            "Even Numbers List: [2, 4, 6, 8, 10, 12, 14, 16, 18, 20]\n"
          ]
        }
      ]
    },
    {
      "cell_type": "code",
      "source": [
        "# 14. Create a list of odd numbers from 1 to 20.\n",
        "odd_numbers_list = list(range(1, 21, 2))\n",
        "print(f\"Odd Numbers List: {odd_numbers_list}\")\n"
      ],
      "metadata": {
        "colab": {
          "base_uri": "https://localhost:8080/"
        },
        "id": "MLpscYaZ61Fl",
        "outputId": "bdeb7861-2388-4d2b-a64a-6e27cd1692a2"
      },
      "execution_count": 72,
      "outputs": [
        {
          "output_type": "stream",
          "name": "stdout",
          "text": [
            "Odd Numbers List: [1, 3, 5, 7, 9, 11, 13, 15, 17, 19]\n"
          ]
        }
      ]
    },
    {
      "cell_type": "code",
      "source": [
        "# 15. Find the sum of all elements in a list.\n",
        "sum_of_elements = sum(integer_list)\n",
        "print(f\"Sum of Elements: {sum_of_elements}\")\n",
        "\n"
      ],
      "metadata": {
        "colab": {
          "base_uri": "https://localhost:8080/"
        },
        "id": "TErfVG7M61Jt",
        "outputId": "ae087c3e-01d7-4091-98a2-488efd37999f"
      },
      "execution_count": 73,
      "outputs": [
        {
          "output_type": "stream",
          "name": "stdout",
          "text": [
            "Sum of Elements: 58\n"
          ]
        }
      ]
    },
    {
      "cell_type": "code",
      "source": [
        "# 16. Find the maximum value in a list.\n",
        "max_value = max(integer_list)\n",
        "print(f\"Maximum Value: {max_value}\")\n"
      ],
      "metadata": {
        "colab": {
          "base_uri": "https://localhost:8080/"
        },
        "id": "97jD9WfE61N8",
        "outputId": "4ef77881-273a-4c9e-d12d-6bc7382b21f8"
      },
      "execution_count": 74,
      "outputs": [
        {
          "output_type": "stream",
          "name": "stdout",
          "text": [
            "Maximum Value: 11\n"
          ]
        }
      ]
    },
    {
      "cell_type": "code",
      "source": [
        "# 17. Find the minimum value in a list.\n",
        "min_value = min(integer_list)\n",
        "print(f\"Minimum Value: {min_value}\")\n"
      ],
      "metadata": {
        "colab": {
          "base_uri": "https://localhost:8080/"
        },
        "id": "1P_W17Ao61RT",
        "outputId": "22a23425-786b-4737-e397-721b29b6aa4d"
      },
      "execution_count": 75,
      "outputs": [
        {
          "output_type": "stream",
          "name": "stdout",
          "text": [
            "Minimum Value: 0\n"
          ]
        }
      ]
    },
    {
      "cell_type": "code",
      "source": [
        "# 18. Create a list of squares of numbers from 1 to 10.\n",
        "squares_list = [num ** 2 for num in range(1, 11)]\n",
        "print(f\"Squares List: {squares_list}\")\n"
      ],
      "metadata": {
        "colab": {
          "base_uri": "https://localhost:8080/"
        },
        "id": "1lZ8PWlk61WL",
        "outputId": "946b861a-66ca-45f8-87ad-ae71261d8205"
      },
      "execution_count": 76,
      "outputs": [
        {
          "output_type": "stream",
          "name": "stdout",
          "text": [
            "Squares List: [1, 4, 9, 16, 25, 36, 49, 64, 81, 100]\n"
          ]
        }
      ]
    },
    {
      "cell_type": "code",
      "source": [
        "# 19. Create a list of random numbers.\n",
        "import random\n",
        "random_list = [random.randint(1, 100) for _ in range(10)]\n",
        "print(f\"Random List: {random_list}\")\n",
        "\n"
      ],
      "metadata": {
        "colab": {
          "base_uri": "https://localhost:8080/"
        },
        "id": "ip-EX1Zx61bU",
        "outputId": "410589a4-dc47-4ac3-a699-085269611634"
      },
      "execution_count": 77,
      "outputs": [
        {
          "output_type": "stream",
          "name": "stdout",
          "text": [
            "Random List: [71, 58, 73, 96, 21, 78, 98, 75, 44, 88]\n"
          ]
        }
      ]
    },
    {
      "cell_type": "code",
      "source": [
        "# 20. Remove duplicates from a list.\n",
        "unique_list = list(set(integer_list))\n",
        "print(f\"List with Duplicates Removed: {unique_list}\")\n",
        "\n"
      ],
      "metadata": {
        "colab": {
          "base_uri": "https://localhost:8080/"
        },
        "id": "LRzCPYdO61hi",
        "outputId": "87d9e925-81f3-4041-90cd-81e97a516396"
      },
      "execution_count": 78,
      "outputs": [
        {
          "output_type": "stream",
          "name": "stdout",
          "text": [
            "List with Duplicates Removed: [0, 1, 2, 4, 6, 7, 8, 9, 10, 11]\n"
          ]
        }
      ]
    },
    {
      "cell_type": "code",
      "source": [
        "# 21. Find the common elements between two lists.\n",
        "list1 = [1, 2, 3, 4, 5]\n",
        "list2 = [3, 4, 5, 6, 7]\n",
        "common_elements = list(set(list1) & set(list2))\n",
        "print(f\"Common Elements: {common_elements}\")\n"
      ],
      "metadata": {
        "colab": {
          "base_uri": "https://localhost:8080/"
        },
        "id": "KR2GeoKA61k-",
        "outputId": "eaae37c5-0007-4533-9995-f141a9467d15"
      },
      "execution_count": 79,
      "outputs": [
        {
          "output_type": "stream",
          "name": "stdout",
          "text": [
            "Common Elements: [3, 4, 5]\n"
          ]
        }
      ]
    },
    {
      "cell_type": "code",
      "source": [
        "# 22. Find the difference between two lists.\n",
        "difference_list = list(set(list1) - set(list2))\n",
        "print(f\"Difference between Lists: {difference_list}\")\n",
        "\n"
      ],
      "metadata": {
        "colab": {
          "base_uri": "https://localhost:8080/"
        },
        "id": "Mqbd4S0f61qn",
        "outputId": "ead9014b-17fc-4e44-e86e-1f73c9dc0a29"
      },
      "execution_count": 80,
      "outputs": [
        {
          "output_type": "stream",
          "name": "stdout",
          "text": [
            "Difference between Lists: [1, 2]\n"
          ]
        }
      ]
    },
    {
      "cell_type": "code",
      "source": [
        "# 23. Merge two lists.\n",
        "merged_list = list1 + list2\n",
        "print(f\"Merged List: {merged_list}\")\n"
      ],
      "metadata": {
        "colab": {
          "base_uri": "https://localhost:8080/"
        },
        "id": "R3bIZNaR61vg",
        "outputId": "de6bbd74-4d00-42a3-c65b-ce0e9bcb446e"
      },
      "execution_count": 81,
      "outputs": [
        {
          "output_type": "stream",
          "name": "stdout",
          "text": [
            "Merged List: [1, 2, 3, 4, 5, 3, 4, 5, 6, 7]\n"
          ]
        }
      ]
    },
    {
      "cell_type": "code",
      "source": [
        "# 24. Multiply all elements in a list by 2.\n",
        "multiplied_list = [num * 2 for num in integer_list]\n",
        "print(f\"List after Multiplication: {multiplied_list}\")\n"
      ],
      "metadata": {
        "colab": {
          "base_uri": "https://localhost:8080/"
        },
        "id": "_bNqnXRs610z",
        "outputId": "5a72e41b-685a-433a-972c-473ee9823c43"
      },
      "execution_count": 82,
      "outputs": [
        {
          "output_type": "stream",
          "name": "stdout",
          "text": [
            "List after Multiplication: [2, 4, 0, 8, 12, 14, 16, 18, 20, 22]\n"
          ]
        }
      ]
    },
    {
      "cell_type": "code",
      "source": [
        "# 25. Filter out all even numbers from a list.\n",
        "integer_list=[3,4,5,3,56]\n",
        "filtered_odd_numbers = [num for num in integer_list if num % 2 != 0]\n",
        "print(f\"Filtered Odd Numbers: {filtered_odd_numbers}\")"
      ],
      "metadata": {
        "colab": {
          "base_uri": "https://localhost:8080/"
        },
        "id": "l-bV6Amy7n2b",
        "outputId": "7ade6108-c592-4413-e17e-1ffda919534b"
      },
      "execution_count": 3,
      "outputs": [
        {
          "output_type": "stream",
          "name": "stdout",
          "text": [
            "Filtered Odd Numbers: [3, 5, 3]\n"
          ]
        }
      ]
    },
    {
      "cell_type": "code",
      "source": [
        "# 26. Convert a list of strings to a list of integers.\n",
        "string_list = ['1', '2', '3', '4', '5']\n",
        "int_list = list(map(int, string_list))\n",
        "print(f\"List of Integers: {int_list}\")"
      ],
      "metadata": {
        "colab": {
          "base_uri": "https://localhost:8080/"
        },
        "id": "2T8KPnq58AkI",
        "outputId": "09b1a022-71c1-4102-b3cd-1cce74f3919f"
      },
      "execution_count": 4,
      "outputs": [
        {
          "output_type": "stream",
          "name": "stdout",
          "text": [
            "List of Integers: [1, 2, 3, 4, 5]\n"
          ]
        }
      ]
    },
    {
      "cell_type": "code",
      "source": [
        "# 27. Convert a list of integers to a list of strings.\n",
        "str_list = list(map(str, integer_list))\n",
        "print(f\"List of Strings: {str_list}\")"
      ],
      "metadata": {
        "colab": {
          "base_uri": "https://localhost:8080/"
        },
        "id": "KLCOJ5B78Anu",
        "outputId": "5f0ad51e-a11a-4b6a-90db-9e972fbddd94"
      },
      "execution_count": 5,
      "outputs": [
        {
          "output_type": "stream",
          "name": "stdout",
          "text": [
            "List of Strings: ['3', '4', '5', '3', '56']\n"
          ]
        }
      ]
    },
    {
      "cell_type": "code",
      "source": [
        "# 28. Flatten a nested list.\n",
        "nested_list = [[1, 2, 3], [4, 5, 6], [7, 8, 9]]\n",
        "flattened_list = [num for sublist in nested_list for num in sublist]\n",
        "print(f\"Flattened List: {flattened_list}\")"
      ],
      "metadata": {
        "colab": {
          "base_uri": "https://localhost:8080/"
        },
        "id": "s4M5DUeY8Arj",
        "outputId": "95e0cfda-c1be-4e7a-89e5-ea1da1711b2f"
      },
      "execution_count": 6,
      "outputs": [
        {
          "output_type": "stream",
          "name": "stdout",
          "text": [
            "Flattened List: [1, 2, 3, 4, 5, 6, 7, 8, 9]\n"
          ]
        }
      ]
    },
    {
      "cell_type": "code",
      "source": [
        "\n",
        "# 29. Create a list of the first 10 Fibonacci numbers.\n",
        "def generate_fibonacci(n):\n",
        "    fib_list = [0, 1]\n",
        "    while len(fib_list) < n:\n",
        "        fib_list.append(fib_list[-1] + fib_list[-2])\n",
        "    return fib_list\n",
        "\n",
        "first_10_fibonacci = generate_fibonacci(10)\n",
        "print(f\"First 10 Fibonacci Numbers: {first_10_fibonacci}\")"
      ],
      "metadata": {
        "colab": {
          "base_uri": "https://localhost:8080/"
        },
        "id": "XxPrXAYr8Avp",
        "outputId": "c7443b0a-d21b-4cb2-e8e8-777ca7482758"
      },
      "execution_count": 7,
      "outputs": [
        {
          "output_type": "stream",
          "name": "stdout",
          "text": [
            "First 10 Fibonacci Numbers: [0, 1, 1, 2, 3, 5, 8, 13, 21, 34]\n"
          ]
        }
      ]
    },
    {
      "cell_type": "code",
      "source": [
        "\n",
        "\n",
        "# 30. Check if a list is sorted.\n",
        "is_sorted = all(integer_list[i] <= integer_list[i + 1] for i in range(len(integer_list) - 1))\n",
        "print(f\"List is Sorted: {is_sorted}\")"
      ],
      "metadata": {
        "colab": {
          "base_uri": "https://localhost:8080/"
        },
        "id": "N5noOuhL8Az2",
        "outputId": "b4050559-13a5-459c-e5da-9a56c86bbfd9"
      },
      "execution_count": 8,
      "outputs": [
        {
          "output_type": "stream",
          "name": "stdout",
          "text": [
            "List is Sorted: False\n"
          ]
        }
      ]
    },
    {
      "cell_type": "code",
      "source": [
        "\n",
        "\n",
        "# 31. Rotate a list to the left by `n` positions.\n",
        "n = 2\n",
        "rotated_left_list = integer_list[n:] + integer_list[:n]\n",
        "print(f\"List after Left Rotation: {rotated_left_list}\")"
      ],
      "metadata": {
        "colab": {
          "base_uri": "https://localhost:8080/"
        },
        "id": "Sru10MiJ8A4P",
        "outputId": "345389a6-e3e6-4316-fc13-fe47bf06074e"
      },
      "execution_count": 9,
      "outputs": [
        {
          "output_type": "stream",
          "name": "stdout",
          "text": [
            "List after Left Rotation: [5, 3, 56, 3, 4]\n"
          ]
        }
      ]
    },
    {
      "cell_type": "code",
      "source": [
        "# 32. Rotate a list to the right by `n` positions.\n",
        "rotated_right_list = integer_list[-n:] + integer_list[:-n]\n",
        "print(f\"List after Right Rotation: {rotated_right_list}\")"
      ],
      "metadata": {
        "colab": {
          "base_uri": "https://localhost:8080/"
        },
        "id": "PRqiiP3p8A84",
        "outputId": "85fa6b7f-ee5e-4e6a-be10-726041023873"
      },
      "execution_count": 10,
      "outputs": [
        {
          "output_type": "stream",
          "name": "stdout",
          "text": [
            "List after Right Rotation: [3, 56, 3, 4, 5]\n"
          ]
        }
      ]
    },
    {
      "cell_type": "code",
      "source": [
        "\n",
        "# 33. Create a list of prime numbers up to 50.\n",
        "def is_prime(num):\n",
        "    if num < 2:\n",
        "        return False\n",
        "    for i in range(2, int(num**0.5) + 1):\n",
        "        if num % i == 0:\n",
        "            return False\n",
        "    return True\n",
        "\n",
        "prime_numbers_up_to_50 = [num for num in range(2, 51) if is_prime(num)]\n",
        "print(f\"Prime Numbers up to 50: {prime_numbers_up_to_50}\")"
      ],
      "metadata": {
        "colab": {
          "base_uri": "https://localhost:8080/"
        },
        "id": "zW2GnLLb8BBd",
        "outputId": "76b373b1-e3ca-475b-b4f0-3e495b700826"
      },
      "execution_count": 11,
      "outputs": [
        {
          "output_type": "stream",
          "name": "stdout",
          "text": [
            "Prime Numbers up to 50: [2, 3, 5, 7, 11, 13, 17, 19, 23, 29, 31, 37, 41, 43, 47]\n"
          ]
        }
      ]
    },
    {
      "cell_type": "code",
      "source": [
        "\n",
        "\n",
        "# 34. Split a list into chunks of size `n`.\n",
        "chunk_size = 3\n",
        "chunks = [integer_list[i:i + chunk_size] for i in range(0, len(integer_list), chunk_size)]\n",
        "print(f\"List Split into Chunks: {chunks}\")"
      ],
      "metadata": {
        "colab": {
          "base_uri": "https://localhost:8080/"
        },
        "id": "gQnc_vQL8BFd",
        "outputId": "0aa09ae0-2f91-41b7-ebe4-3705a72c4d99"
      },
      "execution_count": 12,
      "outputs": [
        {
          "output_type": "stream",
          "name": "stdout",
          "text": [
            "List Split into Chunks: [[3, 4, 5], [3, 56]]\n"
          ]
        }
      ]
    },
    {
      "cell_type": "code",
      "source": [
        "\n",
        "\n",
        "# 35. Find the second largest number in a list.\n",
        "second_largest = sorted(set(integer_list))[-2]\n",
        "print(f\"Second Largest Number: {second_largest}\")"
      ],
      "metadata": {
        "colab": {
          "base_uri": "https://localhost:8080/"
        },
        "id": "BwFIz41h8BJh",
        "outputId": "8f0c3733-912b-424a-cbe0-f533193bb258"
      },
      "execution_count": 13,
      "outputs": [
        {
          "output_type": "stream",
          "name": "stdout",
          "text": [
            "Second Largest Number: 5\n"
          ]
        }
      ]
    },
    {
      "cell_type": "code",
      "source": [
        "\n",
        "# 36. Replace every element in a list with its square.\n",
        "squared_elements = [num**2 for num in integer_list]\n",
        "print(f\"List with Squared Elements: {squared_elements}\")\n"
      ],
      "metadata": {
        "colab": {
          "base_uri": "https://localhost:8080/"
        },
        "id": "sBUvGlCB8BNu",
        "outputId": "1746ffd4-22fe-4092-b2e6-85c41878a397"
      },
      "execution_count": 14,
      "outputs": [
        {
          "output_type": "stream",
          "name": "stdout",
          "text": [
            "List with Squared Elements: [9, 16, 25, 9, 3136]\n"
          ]
        }
      ]
    },
    {
      "cell_type": "code",
      "source": [
        "\n",
        "# 37. Convert a list to a dictionary where list elements become keys and their indices become values.\n",
        "list_to_dict = {value: index for index, value in enumerate(integer_list)}\n",
        "print(f\"List to Dictionary: {list_to_dict}\")\n",
        "\n"
      ],
      "metadata": {
        "colab": {
          "base_uri": "https://localhost:8080/"
        },
        "id": "sRI2fvRu8BkO",
        "outputId": "fbd903af-fa95-4f79-ee4c-7156482f79a0"
      },
      "execution_count": 15,
      "outputs": [
        {
          "output_type": "stream",
          "name": "stdout",
          "text": [
            "List to Dictionary: {3: 3, 4: 1, 5: 2, 56: 4}\n"
          ]
        }
      ]
    },
    {
      "cell_type": "code",
      "source": [
        "# 38. Shuffle the elements of a list randomly.\n",
        "import random\n",
        "random.shuffle(integer_list)\n",
        "print(f\"Shuffled List: {integer_list}\")\n"
      ],
      "metadata": {
        "colab": {
          "base_uri": "https://localhost:8080/"
        },
        "id": "1w2TV1Iw8Bnz",
        "outputId": "6279b6c9-0eb6-4c65-8ed8-365da664147b"
      },
      "execution_count": 24,
      "outputs": [
        {
          "output_type": "stream",
          "name": "stdout",
          "text": [
            "Shuffled List: [3, 56, 4, 3, 5]\n"
          ]
        }
      ]
    },
    {
      "cell_type": "code",
      "source": [
        "# 39. Create a list of the first 10 factorial numbers.\n",
        "import math\n",
        "factorial_numbers = [math.factorial(num) for num in range(1, 11)]\n",
        "print(f\"First 10 Factorial Numbers: {factorial_numbers}\")\n"
      ],
      "metadata": {
        "colab": {
          "base_uri": "https://localhost:8080/"
        },
        "id": "_ZtsDDb18Br0",
        "outputId": "ce3c0b7a-40a3-49dc-a721-118741e81bd2"
      },
      "execution_count": 25,
      "outputs": [
        {
          "output_type": "stream",
          "name": "stdout",
          "text": [
            "First 10 Factorial Numbers: [1, 2, 6, 24, 120, 720, 5040, 40320, 362880, 3628800]\n"
          ]
        }
      ]
    },
    {
      "cell_type": "code",
      "source": [
        "\n",
        "\n",
        "# 40. Check if two lists have at least one element in common.\n",
        "list1=[3,4,566,4,6]\n",
        "list2=[2,45,36677,7]\n",
        "common_elements_check = any(element in list1 for element in list2)\n",
        "print(f\"At Least One Common Element: {common_elements_check}\")\n",
        "\n"
      ],
      "metadata": {
        "colab": {
          "base_uri": "https://localhost:8080/"
        },
        "id": "mwFnPjsi8Bvg",
        "outputId": "623c365f-e4ad-4a17-888f-a1bcfb9d603f"
      },
      "execution_count": 29,
      "outputs": [
        {
          "output_type": "stream",
          "name": "stdout",
          "text": [
            "At Least One Common Element: False\n"
          ]
        }
      ]
    },
    {
      "cell_type": "code",
      "source": [
        "# 41. Remove all elements from a list.\n",
        "integer_list.clear()\n",
        "print(f\"List after Clearing: {integer_list}\")\n"
      ],
      "metadata": {
        "colab": {
          "base_uri": "https://localhost:8080/"
        },
        "id": "QU7slnfF8By2",
        "outputId": "27b1d48d-abf6-4148-ebf0-be6ec74e32ef"
      },
      "execution_count": 30,
      "outputs": [
        {
          "output_type": "stream",
          "name": "stdout",
          "text": [
            "List after Clearing: []\n"
          ]
        }
      ]
    },
    {
      "cell_type": "code",
      "source": [
        "\n",
        "\n",
        "# 42. Replace negative numbers in a list with 0.\n",
        "positive_numbers_list = [max(0, num) for num in integer_list]\n",
        "print(f\"List with Negatives Replaced: {positive_numbers_list}\")\n"
      ],
      "metadata": {
        "colab": {
          "base_uri": "https://localhost:8080/"
        },
        "id": "LwsXeuGK8B2i",
        "outputId": "1a3ffb6c-e92f-45b9-df8e-fabd9f1fbee7"
      },
      "execution_count": 31,
      "outputs": [
        {
          "output_type": "stream",
          "name": "stdout",
          "text": [
            "List with Negatives Replaced: []\n"
          ]
        }
      ]
    },
    {
      "cell_type": "code",
      "source": [
        "\n",
        "# 43. Convert a string into a list of words.\n",
        "string_to_list = \"Hello, this is a string.\"\n",
        "word_list = string_to_list.split()\n",
        "print(f\"String to List of Words: {word_list}\")\n"
      ],
      "metadata": {
        "colab": {
          "base_uri": "https://localhost:8080/"
        },
        "id": "r9sg3ZV58B5c",
        "outputId": "98631c75-cb5b-4ba9-ee41-34252e3b491c"
      },
      "execution_count": 32,
      "outputs": [
        {
          "output_type": "stream",
          "name": "stdout",
          "text": [
            "String to List of Words: ['Hello,', 'this', 'is', 'a', 'string.']\n"
          ]
        }
      ]
    },
    {
      "cell_type": "code",
      "source": [
        "\n",
        "# 44. Convert a list of words into a string.\n",
        "list_to_string = \" \".join(word_list)\n",
        "print(f\"List of Words to String: {list_to_string}\")\n"
      ],
      "metadata": {
        "colab": {
          "base_uri": "https://localhost:8080/"
        },
        "id": "PVpEMK0U8B9D",
        "outputId": "3bfa2926-1619-4e02-ab72-88c585f7685d"
      },
      "execution_count": 33,
      "outputs": [
        {
          "output_type": "stream",
          "name": "stdout",
          "text": [
            "List of Words to String: Hello, this is a string.\n"
          ]
        }
      ]
    },
    {
      "cell_type": "code",
      "source": [
        "# 45. Create a list of the first `n` powers of 2.\n",
        "powers_of_2 = [2**i for i in range(1, 11)]\n",
        "print(f\"First 10 Powers of 2: {powers_of_2}\")\n",
        "\n"
      ],
      "metadata": {
        "colab": {
          "base_uri": "https://localhost:8080/"
        },
        "id": "HEeOvZ1u8CAc",
        "outputId": "20bfafe0-973b-40f9-e771-f0d0d8fd9585"
      },
      "execution_count": 34,
      "outputs": [
        {
          "output_type": "stream",
          "name": "stdout",
          "text": [
            "First 10 Powers of 2: [2, 4, 8, 16, 32, 64, 128, 256, 512, 1024]\n"
          ]
        }
      ]
    },
    {
      "cell_type": "code",
      "source": [
        "# 46. Find the longest string in a list of strings.\n",
        "longest_string = max(string_list, key=len)\n",
        "print(f\"Longest String: {longest_string}\")\n"
      ],
      "metadata": {
        "colab": {
          "base_uri": "https://localhost:8080/"
        },
        "id": "nDYgB1Du8CPF",
        "outputId": "3f0b699c-56ee-4e92-abe6-5b23e0e4d18a"
      },
      "execution_count": 35,
      "outputs": [
        {
          "output_type": "stream",
          "name": "stdout",
          "text": [
            "Longest String: 1\n"
          ]
        }
      ]
    },
    {
      "cell_type": "code",
      "source": [
        "# 47. Find the shortest string in a list of strings.\n",
        "shortest_string = min(string_list, key=len)\n",
        "print(f\"Shortest String: {shortest_string}\")\n",
        "\n",
        "\n"
      ],
      "metadata": {
        "colab": {
          "base_uri": "https://localhost:8080/"
        },
        "id": "ToXWkagG8CTf",
        "outputId": "52163c28-6ff4-414b-9445-45bb7603c401"
      },
      "execution_count": 36,
      "outputs": [
        {
          "output_type": "stream",
          "name": "stdout",
          "text": [
            "Shortest String: 1\n"
          ]
        }
      ]
    },
    {
      "cell_type": "code",
      "source": [
        "# 48. Create a list of the first `n` triangular numbers.\n",
        "triangular_numbers = [i * (i + 1) // 2 for i in range(1, 11)]\n",
        "print(f\"First 10 Triangular Numbers: {triangular_numbers}\")\n"
      ],
      "metadata": {
        "colab": {
          "base_uri": "https://localhost:8080/"
        },
        "id": "2pKZX9fQ8CWw",
        "outputId": "c3e4fe78-0e03-44dc-b6f0-a4d2a0150304"
      },
      "execution_count": 37,
      "outputs": [
        {
          "output_type": "stream",
          "name": "stdout",
          "text": [
            "First 10 Triangular Numbers: [1, 3, 6, 10, 15, 21, 28, 36, 45, 55]\n"
          ]
        }
      ]
    },
    {
      "cell_type": "code",
      "source": [
        "\n",
        "# 49. Check if a list contains another list as a subsequence.\n",
        "def is_subsequence(sub, main):\n",
        "    i, j = 0, 0\n",
        "\n",
        "    # Iterate through both lists\n",
        "    while i < len(sub) and j < len(main):\n",
        "        # If current elements match, move pointer in subsequence\n",
        "        if sub[i] == main[j]:\n",
        "            i += 1\n",
        "        # Move pointer in the main sequence\n",
        "        j += 1\n",
        "\n",
        "    # If all elements of sub are found in main in order, sub is a subsequence\n",
        "    return i == len(sub)\n",
        "\n",
        "main_list = [1, 2, 3, 4, 5, 6, 7, 8, 9]\n",
        "sub_list = [3, 5, 8]\n",
        "\n",
        "result = is_subsequence(sub_list, main_list)\n",
        "print(result)\n"
      ],
      "metadata": {
        "colab": {
          "base_uri": "https://localhost:8080/"
        },
        "id": "WyfCESfH8Ciu",
        "outputId": "4281d207-7161-4152-c35d-11c8ae59d0a6"
      },
      "execution_count": 38,
      "outputs": [
        {
          "output_type": "stream",
          "name": "stdout",
          "text": [
            "True\n"
          ]
        }
      ]
    },
    {
      "cell_type": "code",
      "source": [
        "# Assuming 'integer_list' is the list you want to modify\n",
        "index1, index2 = 1, 4\n",
        "\n",
        "# Check if indices are within the bounds of the list\n",
        "if 0 <= index1 < len(integer_list) and 0 <= index2 < len(integer_list):\n",
        "    # Swap elements at index1 and index2\n",
        "    integer_list[index1], integer_list[index2] = integer_list[index2], integer_list[index1]\n",
        "    print(f\"List after Swapping Elements: {integer_list}\")\n",
        "else:\n",
        "    print(\"Invalid indices. Please ensure indices are within the bounds of the list.\")\n"
      ],
      "metadata": {
        "colab": {
          "base_uri": "https://localhost:8080/"
        },
        "id": "F8izZEzo9AZL",
        "outputId": "2ca93ab6-a755-4364-c52d-228a3e203fd3"
      },
      "execution_count": 40,
      "outputs": [
        {
          "output_type": "stream",
          "name": "stdout",
          "text": [
            "Invalid indices. Please ensure indices are within the bounds of the list.\n"
          ]
        }
      ]
    },
    {
      "cell_type": "code",
      "source": [
        "#Tuple Based Practice Problem :"
      ],
      "metadata": {
        "id": "2il1fIbRBXLm"
      },
      "execution_count": 41,
      "outputs": []
    },
    {
      "cell_type": "code",
      "source": [
        "# 1. Create a tuple with integers from 1 to 5.\n",
        "tuple_integers = (1, 2, 3, 4, 5)\n"
      ],
      "metadata": {
        "id": "znAMyW-ZB4v-"
      },
      "execution_count": 42,
      "outputs": []
    },
    {
      "cell_type": "code",
      "source": [
        "\n",
        "\n",
        "\n",
        "# 2. Access the third element of a tuple.\n",
        "third_element = tuple_integers[2]"
      ],
      "metadata": {
        "id": "IRAN__aCCMAU"
      },
      "execution_count": 43,
      "outputs": []
    },
    {
      "cell_type": "code",
      "source": [
        "# 3. Find the length of a tuple without using the `len()` function.\n",
        "tuple_length = sum(1 for _ in tuple_integers)\n"
      ],
      "metadata": {
        "id": "_KVZyvIXCMDy"
      },
      "execution_count": 44,
      "outputs": []
    },
    {
      "cell_type": "code",
      "source": [
        "\n",
        "\n",
        "\n",
        "\n",
        "\n",
        "# 4. Count the occurrences of an element in a tuple.\n",
        "element_count = tuple_integers.count(3)\n"
      ],
      "metadata": {
        "id": "DDGcZ3MYCMJi"
      },
      "execution_count": 45,
      "outputs": []
    },
    {
      "cell_type": "code",
      "source": [
        "# 5. Find the index of the first occurrence of an element in a tuple.\n",
        "element_index = tuple_integers.index(4)"
      ],
      "metadata": {
        "id": "wWuuXAXICMM1"
      },
      "execution_count": 46,
      "outputs": []
    },
    {
      "cell_type": "code",
      "source": [
        "# 6. Check if an element exists in a tuple.\n",
        "element_exists = 2 in tuple_integers"
      ],
      "metadata": {
        "id": "bMLMEhKhCMnt"
      },
      "execution_count": 47,
      "outputs": []
    },
    {
      "cell_type": "code",
      "source": [
        "# 7. Convert a tuple to a list.\n",
        "list_from_tuple = list(tuple_integers)"
      ],
      "metadata": {
        "id": "G79F6YnpCMrL"
      },
      "execution_count": 48,
      "outputs": []
    },
    {
      "cell_type": "code",
      "source": [
        "# 8. Convert a list to a tuple.\n",
        "tuple_from_list = tuple(list_from_tuple)"
      ],
      "metadata": {
        "id": "fd6OvpFDCMw_"
      },
      "execution_count": 49,
      "outputs": []
    },
    {
      "cell_type": "code",
      "source": [
        "# 9. Unpack the elements of a tuple into variables.\n",
        "a, b, c, d, e = tuple_integers\n",
        "\n"
      ],
      "metadata": {
        "id": "Wa3ufDZ-CM2M"
      },
      "execution_count": 50,
      "outputs": []
    },
    {
      "cell_type": "code",
      "source": [
        "# 10. Create a tuple of even numbers from 1 to 10.\n",
        "even_numbers = tuple(range(2, 11, 2))\n",
        "\n"
      ],
      "metadata": {
        "id": "tWSudD7YCM66"
      },
      "execution_count": 51,
      "outputs": []
    },
    {
      "cell_type": "code",
      "source": [
        "# 11. Create a tuple of odd numbers from 1 to 10.\n",
        "odd_numbers = tuple(range(1, 11, 2))\n",
        "\n"
      ],
      "metadata": {
        "id": "BT-X4tKvCNAp"
      },
      "execution_count": 52,
      "outputs": []
    },
    {
      "cell_type": "code",
      "source": [
        "\n",
        "# 12. Concatenate two tuples.\n",
        "concatenated_tuple = tuple_integers + even_numbers\n",
        "\n",
        "\n"
      ],
      "metadata": {
        "id": "dJEo8ca-CNEE"
      },
      "execution_count": 53,
      "outputs": []
    },
    {
      "cell_type": "code",
      "source": [
        "\n",
        "\n",
        "# 13. Repeat a tuple three times.\n",
        "repeated_tuple = tuple_integers * 3\n",
        "\n"
      ],
      "metadata": {
        "id": "VwmbWOtLDnKm"
      },
      "execution_count": 54,
      "outputs": []
    },
    {
      "cell_type": "code",
      "source": [
        "# 14. Check if a tuple is empty.\n",
        "is_empty = not bool(tuple_integers)\n",
        "\n"
      ],
      "metadata": {
        "id": "zM8fgCNBDnTy"
      },
      "execution_count": 55,
      "outputs": []
    },
    {
      "cell_type": "code",
      "source": [
        "# 15. Create a nested tuple.\n",
        "nested_tuple = ((1, 2), (3, 4))\n"
      ],
      "metadata": {
        "id": "D3lrBtr8DgjW"
      },
      "execution_count": 56,
      "outputs": []
    },
    {
      "cell_type": "code",
      "source": [
        "# 16. Access the first element of a nested tuple.\n",
        "first_element_nested = nested_tuple[0][0]\n"
      ],
      "metadata": {
        "id": "vuHPSDpnDguH"
      },
      "execution_count": 57,
      "outputs": []
    },
    {
      "cell_type": "code",
      "source": [
        "# 17. Create a tuple with a single element.\n",
        "single_element_tuple = (42,)\n",
        "\n",
        "\n"
      ],
      "metadata": {
        "id": "8QOETvJSDg5t"
      },
      "execution_count": 58,
      "outputs": []
    },
    {
      "cell_type": "code",
      "source": [
        "# 18. Compare two tuples.\n",
        "are_identical = tuple_integers == even_numbers\n"
      ],
      "metadata": {
        "id": "gdodDV2aDhJR"
      },
      "execution_count": 59,
      "outputs": []
    },
    {
      "cell_type": "code",
      "source": [
        "# 19. Delete a tuple. (Note: Tuples are immutable, so \"deleting\" here means unbinding the variable)\n",
        "del tuple_integers\n",
        "\n",
        "\n",
        "\n"
      ],
      "metadata": {
        "id": "iX7wYjpZCNbn"
      },
      "execution_count": 60,
      "outputs": []
    },
    {
      "cell_type": "code",
      "source": [
        "\n",
        "tuple_integers = (1, 2, 3, 4, 5, 6, 7, 8, 9, 10)\n",
        "\n",
        "# 20. Slice a tuple.\n",
        "sliced_tuple = tuple_integers[1:4]\n",
        "print(f\"Sliced Tuple: {sliced_tuple}\")\n",
        "\n",
        "\n",
        "\n"
      ],
      "metadata": {
        "colab": {
          "base_uri": "https://localhost:8080/"
        },
        "id": "Cvs5y8nWCNoj",
        "outputId": "366c5ea5-fdcc-4c47-ed02-34f7a4acdce8"
      },
      "execution_count": 73,
      "outputs": [
        {
          "output_type": "stream",
          "name": "stdout",
          "text": [
            "Sliced Tuple: (2, 3, 4)\n"
          ]
        }
      ]
    },
    {
      "cell_type": "code",
      "source": [
        "# 21. Find the maximum value in a tuple.\n",
        "max_value = max(tuple_integers)\n"
      ],
      "metadata": {
        "id": "Fei-q1oSCNtZ"
      },
      "execution_count": 74,
      "outputs": []
    },
    {
      "cell_type": "code",
      "source": [
        "\n",
        "# 22. Find the minimum value in a tuple.\n",
        "min_value = min(tuple_integers)\n",
        "\n"
      ],
      "metadata": {
        "id": "xvvs8DrrCNyd"
      },
      "execution_count": 75,
      "outputs": []
    },
    {
      "cell_type": "code",
      "source": [
        "\n",
        "# 23. Convert a string to a tuple of characters.\n",
        "string_to_tuple = tuple(\"hello\")"
      ],
      "metadata": {
        "id": "vIOYZxN2CN4C"
      },
      "execution_count": 76,
      "outputs": []
    },
    {
      "cell_type": "code",
      "source": [
        "\n",
        "# 24. Convert a tuple of characters to a string.\n",
        "tuple_chars = ('a','b','c')\n",
        "tuple_to_string = ''.join(tuple_chars)\n"
      ],
      "metadata": {
        "id": "dyRYRsNNCN86"
      },
      "execution_count": 79,
      "outputs": []
    },
    {
      "cell_type": "code",
      "source": [
        "# 26. Check if two tuples are identical.\n",
        "are_identical = tuple_integers == even_numbers"
      ],
      "metadata": {
        "id": "CtUnIaGVCOHD"
      },
      "execution_count": 80,
      "outputs": []
    },
    {
      "cell_type": "code",
      "source": [
        "\n",
        "# 27. Sort the elements of a tuple.\n",
        "sorted_tuple = tuple(sorted(tuple_integers))\n"
      ],
      "metadata": {
        "id": "A-CqiZUDCOLy"
      },
      "execution_count": 81,
      "outputs": []
    },
    {
      "cell_type": "code",
      "source": [
        "\n",
        "\n",
        "\n",
        "# 28. Convert a tuple of integers to a tuple of strings.\n",
        "string_tuple = tuple(map(str, tuple_integers))\n"
      ],
      "metadata": {
        "id": "nPWH_zaxCOQ3"
      },
      "execution_count": 82,
      "outputs": []
    },
    {
      "cell_type": "code",
      "source": [
        "# 29. Convert a tuple of strings to a tuple of integers.\n",
        "int_tuple = tuple(map(int, string_tuple))\n",
        "\n"
      ],
      "metadata": {
        "id": "T-hba41ACOVs"
      },
      "execution_count": 83,
      "outputs": []
    },
    {
      "cell_type": "code",
      "source": [
        "\n",
        "# 30. Merge two tuples.\n",
        "merged_tuple = tuple_integers + even_numbers\n"
      ],
      "metadata": {
        "id": "qptV-pIDCOcu"
      },
      "execution_count": 84,
      "outputs": []
    },
    {
      "cell_type": "code",
      "source": [
        "\n",
        "\n",
        "# 31. Flatten a nested tuple.\n",
        "flattened_tuple = tuple(item for sublist in nested_tuple for item in sublist)\n"
      ],
      "metadata": {
        "id": "slxg02MyCOgA"
      },
      "execution_count": 91,
      "outputs": []
    },
    {
      "cell_type": "code",
      "source": [
        "#  Create a tuple of the first 5 prime numbers.\n",
        "prime_numbers = (2, 3, 5, 7, 11)"
      ],
      "metadata": {
        "id": "E_3RiI0HCOlX"
      },
      "execution_count": 92,
      "outputs": []
    },
    {
      "cell_type": "code",
      "source": [
        "#  Check if a tuple is a palindrome.\n",
        "is_palindrome = tuple_integers == tuple_integers[::-1]\n",
        "\n"
      ],
      "metadata": {
        "id": "866UgXhXCOq6"
      },
      "execution_count": 93,
      "outputs": []
    },
    {
      "cell_type": "code",
      "source": [
        "\n",
        "# . Create a tuple of squares of numbers from 1 to 5.\n",
        "squares_tuple = tuple(x**2 for x in range(1, 6))"
      ],
      "metadata": {
        "id": "iqIWO_KqCOxO"
      },
      "execution_count": 94,
      "outputs": []
    },
    {
      "cell_type": "code",
      "source": [
        "\n",
        "\n",
        "\n",
        "\n",
        "\n",
        "\n",
        "\n",
        "\n",
        "\n",
        "\n",
        "#  Filter out all even numbers from a tuple.\n",
        "odd_numbers_filtered = tuple(x for x in tuple_integers if x % 2 != 0)"
      ],
      "metadata": {
        "id": "B7II_iwKCO1b"
      },
      "execution_count": 95,
      "outputs": []
    },
    {
      "cell_type": "code",
      "source": [
        "#  Multiply all elements in a tuple by 2.\n",
        "multiplied_tuple = tuple(x * 2 for x in tuple_integers)"
      ],
      "metadata": {
        "id": "cwEEstOeCO4x"
      },
      "execution_count": 96,
      "outputs": []
    },
    {
      "cell_type": "code",
      "source": [
        "\n",
        "\n",
        "# . Rotate a tuple to the right by `n` positions.\n",
        "def rotate_tuple(tuple_data, n):\n",
        "    n = n % len(tuple_data)\n",
        "    rotated_tuple = tuple_data[-n:] + tuple_data[:-n]\n",
        "    return rotated_tuple\n",
        "\n",
        "# Example usage\n",
        "original_tuple = (1, 2, 3, 4, 5)\n",
        "rotated_tuple = rotate_tuple(original_tuple, 2)\n",
        "print(f\"Q40: Original Tuple: {original_tuple}\")\n",
        "print(f\"Q40: Rotated Tuple: {rotated_tuple}\")\n",
        "\n",
        "\n",
        "\n",
        "\n",
        "\n"
      ],
      "metadata": {
        "colab": {
          "base_uri": "https://localhost:8080/"
        },
        "id": "PpUvrL4-Dunh",
        "outputId": "129098d2-ae8c-4ddd-d4ca-5f4342127206"
      },
      "execution_count": 97,
      "outputs": [
        {
          "output_type": "stream",
          "name": "stdout",
          "text": [
            "Q40: Original Tuple: (1, 2, 3, 4, 5)\n",
            "Q40: Rotated Tuple: (4, 5, 1, 2, 3)\n"
          ]
        }
      ]
    },
    {
      "cell_type": "code",
      "source": [
        "\n",
        "\n",
        "#  Create a tuple of the first 5 Fibonacci numbers.\n",
        "def generate_fibonacci(n):\n",
        "    fibonacci = [0, 1]\n",
        "    while len(fibonacci) < n:\n",
        "        fibonacci.append(fibonacci[-1] + fibonacci[-2])\n",
        "    return tuple(fibonacci)\n",
        "\n",
        "# Example usage\n",
        "fibonacci_tuple = generate_fibonacci(5)\n",
        "print(f\"Q41: Fibonacci Tuple: {fibonacci_tuple}\")"
      ],
      "metadata": {
        "colab": {
          "base_uri": "https://localhost:8080/"
        },
        "id": "TX_im2Y9FTPt",
        "outputId": "737ad3f3-b177-436f-dcce-fdabff4989e8"
      },
      "execution_count": 98,
      "outputs": [
        {
          "output_type": "stream",
          "name": "stdout",
          "text": [
            "Q41: Fibonacci Tuple: (0, 1, 1, 2, 3)\n"
          ]
        }
      ]
    },
    {
      "cell_type": "code",
      "source": [
        "# Create a tuple from user input.\n",
        "user_input = input(\"Q42: Enter elements: \")\n",
        "user_tuple = tuple(map(int, user_input.split()))\n",
        "print(f\"Q42: User Tuple: {user_tuple}\")\n"
      ],
      "metadata": {
        "colab": {
          "base_uri": "https://localhost:8080/"
        },
        "id": "0QMHQLyQFTTh",
        "outputId": "f49d6d04-d3a5-40f0-c6f9-7ae041ec2f38"
      },
      "execution_count": 105,
      "outputs": [
        {
          "output_type": "stream",
          "name": "stdout",
          "text": [
            "Q42: Enter elements: 4 5 6  5 5 5 5\n",
            "Q42: User Tuple: (4, 5, 6, 5, 5, 5, 5)\n"
          ]
        }
      ]
    },
    {
      "cell_type": "code",
      "source": [
        "\n",
        "\n",
        "\n",
        "# 43. Swap two elements in a tuple.\n",
        "def swap_elements(tuple_data, index1, index2):\n",
        "    tuple_list = list(tuple_data)\n",
        "    tuple_list[index1], tuple_list[index2] = tuple_list[index2], tuple_list[index1]\n",
        "    return tuple(tuple_list)\n",
        "\n",
        "# Example usage\n",
        "tuple_to_swap = (1, 2, 3, 4, 5)\n",
        "swapped_tuple = swap_elements(tuple_to_swap, 1, 3)\n",
        "print(f\"Q43: Original Tuple: {tuple_to_swap}\")\n",
        "print(f\"Q43: Swapped Tuple: {swapped_tuple}\")\n"
      ],
      "metadata": {
        "colab": {
          "base_uri": "https://localhost:8080/"
        },
        "id": "BY66DZWfFTW6",
        "outputId": "252f93b4-f7b2-4981-fc9f-2bbd3ac9e7f4"
      },
      "execution_count": 106,
      "outputs": [
        {
          "output_type": "stream",
          "name": "stdout",
          "text": [
            "Q43: Original Tuple: (1, 2, 3, 4, 5)\n",
            "Q43: Swapped Tuple: (1, 4, 3, 2, 5)\n"
          ]
        }
      ]
    },
    {
      "cell_type": "code",
      "source": [
        "\n",
        "# 44. Reverse the elements of a tuple.\n",
        "def reverse_tuple(tuple_data):\n",
        "    return tuple_data[::-1]\n",
        "\n",
        "# Example usage\n",
        "original_tuple = (1, 2, 3, 4, 5)\n",
        "reversed_tuple = reverse_tuple(original_tuple)\n",
        "print(f\"Q44: Original Tuple: {original_tuple}\")\n",
        "print(f\"Q44: Reversed Tuple: {reversed_tuple}\")\n",
        "\n",
        "\n"
      ],
      "metadata": {
        "colab": {
          "base_uri": "https://localhost:8080/"
        },
        "id": "DizD6E56FThP",
        "outputId": "ff8f58f8-db74-4d15-b83e-9195b9ec7971"
      },
      "execution_count": 107,
      "outputs": [
        {
          "output_type": "stream",
          "name": "stdout",
          "text": [
            "Q44: Original Tuple: (1, 2, 3, 4, 5)\n",
            "Q44: Reversed Tuple: (5, 4, 3, 2, 1)\n"
          ]
        }
      ]
    },
    {
      "cell_type": "code",
      "source": [
        "# 45. Create a tuple of the first `n` powers of 2.\n",
        "def powers_of_2_tuple(n):\n",
        "    return tuple(2 ** i for i in range(n))\n",
        "\n",
        "# Example usage\n",
        "powers_of_2 = powers_of_2_tuple(5)\n",
        "print(f\"Q45: Powers of 2 Tuple: {powers_of_2}\")"
      ],
      "metadata": {
        "colab": {
          "base_uri": "https://localhost:8080/"
        },
        "id": "41M7ClMCFTkr",
        "outputId": "4141a5e1-443c-49ca-a188-ba027b872fad"
      },
      "execution_count": 108,
      "outputs": [
        {
          "output_type": "stream",
          "name": "stdout",
          "text": [
            "Q45: Powers of 2 Tuple: (1, 2, 4, 8, 16)\n"
          ]
        }
      ]
    },
    {
      "cell_type": "code",
      "source": [
        "\n",
        "# 46. Find the longest string in a tuple of strings.\n",
        "def longest_string_in_tuple(tuple_of_strings):\n",
        "    return max(tuple_of_strings, key=len)\n",
        "\n",
        "# Example usage\n",
        "string_tuple = (\"apple\", \"banana\", \"kiwi\", \"strawberry\")\n",
        "longest_string = longest_string_in_tuple(string_tuple)\n",
        "print(f\"Q46: Tuple of Strings: {string_tuple}\")\n",
        "print(f\"Q46: Longest String: {longest_string}\")\n",
        "\n",
        "\n",
        "\n"
      ],
      "metadata": {
        "colab": {
          "base_uri": "https://localhost:8080/"
        },
        "id": "YFwWmhQBFToO",
        "outputId": "b45d13ca-a916-4f3d-aaff-27e84504f7ba"
      },
      "execution_count": 109,
      "outputs": [
        {
          "output_type": "stream",
          "name": "stdout",
          "text": [
            "Q46: Tuple of Strings: ('apple', 'banana', 'kiwi', 'strawberry')\n",
            "Q46: Longest String: strawberry\n"
          ]
        }
      ]
    },
    {
      "cell_type": "code",
      "source": [
        "# 47. Find the shortest string in a tuple of strings.\n",
        "def shortest_string_in_tuple(tuple_of_strings):\n",
        "    return min(tuple_of_strings, key=len)\n",
        "\n",
        "# Example usage\n",
        "string_tuple = (\"apple\", \"banana\", \"kiwi\", \"strawberry\")\n",
        "shortest_string = shortest_string_in_tuple(string_tuple)\n",
        "print(f\"Q47: Tuple of Strings: {string_tuple}\")\n",
        "print(f\"Q47: Shortest String: {shortest_string}\")\n",
        "\n"
      ],
      "metadata": {
        "colab": {
          "base_uri": "https://localhost:8080/"
        },
        "id": "bP8lomaHFTve",
        "outputId": "8b06f575-5d58-4cb3-a018-34966d610b7e"
      },
      "execution_count": 110,
      "outputs": [
        {
          "output_type": "stream",
          "name": "stdout",
          "text": [
            "Q47: Tuple of Strings: ('apple', 'banana', 'kiwi', 'strawberry')\n",
            "Q47: Shortest String: kiwi\n"
          ]
        }
      ]
    },
    {
      "cell_type": "code",
      "source": [
        "# 48. Create a tuple of the first `n` triangular numbers.\n",
        "def triangular_numbers_tuple(n):\n",
        "    return tuple((i * (i + 1)) // 2 for i in range(n))\n",
        "\n",
        "# Example usage\n",
        "triangular_numbers = triangular_numbers_tuple(5)\n",
        "print(f\"Q48: Triangular Numbers Tuple: {triangular_numbers}\")\n"
      ],
      "metadata": {
        "colab": {
          "base_uri": "https://localhost:8080/"
        },
        "id": "XbtNrabHFTyh",
        "outputId": "8b6b2b45-14b2-432a-ea89-3720799acf06"
      },
      "execution_count": 111,
      "outputs": [
        {
          "output_type": "stream",
          "name": "stdout",
          "text": [
            "Q48: Triangular Numbers Tuple: (0, 1, 3, 6, 10)\n"
          ]
        }
      ]
    },
    {
      "cell_type": "code",
      "source": [
        "# 49. Check if a tuple contains another tuple as a subsequence.\n",
        "def is_subsequence(sub, main):\n",
        "    sub_len = len(sub)\n",
        "    for i in range(len(main) - sub_len + 1):\n",
        "        if main[i:i + sub_len] == sub:\n",
        "            return True\n",
        "    return False\n",
        "\n",
        "# Example usage\n",
        "main_tuple = (1, 2, 3, 4, 5, 6, 7)\n",
        "sub_tuple = (3, 4, 5)\n",
        "is_sub = is_subsequence(sub_tuple, main_tuple)\n",
        "print(f\"Q49: Main Tuple: {main_tuple}\")\n",
        "print(f\"Q49: Sub Tuple: {sub_tuple}\")\n",
        "print(f\"Q49: Is Sub Tuple a Subsequence? {is_sub}\")\n",
        "\n"
      ],
      "metadata": {
        "colab": {
          "base_uri": "https://localhost:8080/"
        },
        "id": "TBxNx-COFT14",
        "outputId": "b1e98d4b-61ef-4272-c731-c9f849250bcd"
      },
      "execution_count": 112,
      "outputs": [
        {
          "output_type": "stream",
          "name": "stdout",
          "text": [
            "Q49: Main Tuple: (1, 2, 3, 4, 5, 6, 7)\n",
            "Q49: Sub Tuple: (3, 4, 5)\n",
            "Q49: Is Sub Tuple a Subsequence? True\n"
          ]
        }
      ]
    },
    {
      "cell_type": "code",
      "source": [
        "# 50. Create a tuple of alternating 1s and 0s of length `n`.\n",
        "def alternating_tuple(n):\n",
        "    return tuple(1 if i % 2 == 0 else 0 for i in range(n))\n",
        "\n",
        "# Example usage\n",
        "alternating_numbers = alternating_tuple(6)\n",
        "print(f\"Q50: Alternating Tuple: {alternating_numbers}\")"
      ],
      "metadata": {
        "colab": {
          "base_uri": "https://localhost:8080/"
        },
        "id": "nI1whytiEgDH",
        "outputId": "c12debc3-3e73-479d-a374-af9397556e6a"
      },
      "execution_count": 113,
      "outputs": [
        {
          "output_type": "stream",
          "name": "stdout",
          "text": [
            "Q50: Alternating Tuple: (1, 0, 1, 0, 1, 0)\n"
          ]
        }
      ]
    },
    {
      "cell_type": "code",
      "source": [
        "\n",
        "\n",
        "# Set Based Practice Problem :"
      ],
      "metadata": {
        "id": "BmxfCb0RF6mR"
      },
      "execution_count": 115,
      "outputs": []
    },
    {
      "cell_type": "code",
      "source": [
        "\n",
        "# 1. Create a set with integers from 1 to 5.\n",
        "set_integers = {1, 2, 3, 4, 5}\n",
        "print(set_integers)"
      ],
      "metadata": {
        "colab": {
          "base_uri": "https://localhost:8080/"
        },
        "id": "hdvyutbgGlxr",
        "outputId": "10745ac7-2436-4b9b-db1f-79f5f918b20a"
      },
      "execution_count": 116,
      "outputs": [
        {
          "output_type": "stream",
          "name": "stdout",
          "text": [
            "{1, 2, 3, 4, 5}\n"
          ]
        }
      ]
    },
    {
      "cell_type": "code",
      "source": [
        "\n",
        "\n",
        "# 2. Add an element to a set.\n",
        "set_integers.add(6)\n",
        "print(set_integers)"
      ],
      "metadata": {
        "colab": {
          "base_uri": "https://localhost:8080/"
        },
        "id": "l1FFj-2qHBQP",
        "outputId": "a764c67a-c97e-45d4-fe53-276fc9524663"
      },
      "execution_count": 117,
      "outputs": [
        {
          "output_type": "stream",
          "name": "stdout",
          "text": [
            "{1, 2, 3, 4, 5, 6}\n"
          ]
        }
      ]
    },
    {
      "cell_type": "code",
      "source": [
        "\n",
        "# 3. Remove an element from a set.\n",
        "set_integers.remove(3)\n",
        "print(set_integers)"
      ],
      "metadata": {
        "colab": {
          "base_uri": "https://localhost:8080/"
        },
        "id": "6ZfsccuJHBWp",
        "outputId": "1b099856-555a-4a0d-9d88-502ebdd87feb"
      },
      "execution_count": 118,
      "outputs": [
        {
          "output_type": "stream",
          "name": "stdout",
          "text": [
            "{1, 2, 4, 5, 6}\n"
          ]
        }
      ]
    },
    {
      "cell_type": "code",
      "source": [
        "\n",
        "# 4. Check if an element exists in a set.\n",
        "element_exists = 4 in set_integers\n",
        "print(element_exists)"
      ],
      "metadata": {
        "colab": {
          "base_uri": "https://localhost:8080/"
        },
        "id": "A2THDRF9HBaa",
        "outputId": "e81ae480-9425-4b1a-b957-15a1388c6395"
      },
      "execution_count": 119,
      "outputs": [
        {
          "output_type": "stream",
          "name": "stdout",
          "text": [
            "True\n"
          ]
        }
      ]
    },
    {
      "cell_type": "code",
      "source": [
        "# 5. Find the length of a set without using the `len()` function.\n",
        "set_length = len(set_integers)\n",
        "print(set_length)"
      ],
      "metadata": {
        "colab": {
          "base_uri": "https://localhost:8080/"
        },
        "id": "Bi1W27cgHBgN",
        "outputId": "dd30c5f9-2dbd-4461-9a7c-b5f5400e782e"
      },
      "execution_count": 120,
      "outputs": [
        {
          "output_type": "stream",
          "name": "stdout",
          "text": [
            "5\n"
          ]
        }
      ]
    },
    {
      "cell_type": "code",
      "source": [
        "# 6. Clear all elements from a set.\n",
        "set_integers.clear()\n",
        "print(set_integers)"
      ],
      "metadata": {
        "colab": {
          "base_uri": "https://localhost:8080/"
        },
        "id": "w_UTc7QmHBii",
        "outputId": "c1faa18c-6e92-4a7a-8eec-3d0c687160c3"
      },
      "execution_count": 121,
      "outputs": [
        {
          "output_type": "stream",
          "name": "stdout",
          "text": [
            "set()\n"
          ]
        }
      ]
    },
    {
      "cell_type": "code",
      "source": [
        "\n",
        "# 7. Create a set of even numbers from 1 to 10.\n",
        "set_even_numbers = {i for i in range(1, 11) if i % 2 == 0}\n",
        "print(set_even_numbers)\n"
      ],
      "metadata": {
        "colab": {
          "base_uri": "https://localhost:8080/"
        },
        "id": "xJIVF5MGHBkw",
        "outputId": "487511ea-418c-4b90-d7e6-1c6418b70d0e"
      },
      "execution_count": 122,
      "outputs": [
        {
          "output_type": "stream",
          "name": "stdout",
          "text": [
            "{2, 4, 6, 8, 10}\n"
          ]
        }
      ]
    },
    {
      "cell_type": "code",
      "source": [
        "# 8. Create a set of odd numbers from 1 to 10.\n",
        "set_odd_numbers = {i for i in range(1, 11) if i % 2 != 0}\n",
        "print(set_odd_numbers)"
      ],
      "metadata": {
        "colab": {
          "base_uri": "https://localhost:8080/"
        },
        "id": "Nb98fh9XHBn1",
        "outputId": "e25167e7-623e-4017-c282-46584377a46c"
      },
      "execution_count": 123,
      "outputs": [
        {
          "output_type": "stream",
          "name": "stdout",
          "text": [
            "{1, 3, 5, 7, 9}\n"
          ]
        }
      ]
    },
    {
      "cell_type": "code",
      "source": [
        "\n",
        "# 9. Find the union of two sets.\n",
        "set_a = {1, 2, 3}\n",
        "set_b = {3, 4, 5}\n",
        "union_set = set_a.union(set_b)\n",
        "print(union_set)"
      ],
      "metadata": {
        "colab": {
          "base_uri": "https://localhost:8080/"
        },
        "id": "zIItLeTaHBrN",
        "outputId": "a6441096-786b-4a14-8602-068cc09e406d"
      },
      "execution_count": 124,
      "outputs": [
        {
          "output_type": "stream",
          "name": "stdout",
          "text": [
            "{1, 2, 3, 4, 5}\n"
          ]
        }
      ]
    },
    {
      "cell_type": "code",
      "source": [
        "\n",
        "\n",
        "\n",
        "# 10. Find the intersection of two sets.\n",
        "intersection_set = set_a.intersection(set_b)\n",
        "print(intersection_set)"
      ],
      "metadata": {
        "colab": {
          "base_uri": "https://localhost:8080/"
        },
        "id": "TCGnSc-aHBun",
        "outputId": "cbaecbea-3f52-4a35-a500-704ba1d86cb9"
      },
      "execution_count": 125,
      "outputs": [
        {
          "output_type": "stream",
          "name": "stdout",
          "text": [
            "{3}\n"
          ]
        }
      ]
    },
    {
      "cell_type": "code",
      "source": [
        "\n",
        "# 11. Find the difference between two sets.\n",
        "difference_set = set_a.difference(set_b)\n",
        "print(difference_set)"
      ],
      "metadata": {
        "colab": {
          "base_uri": "https://localhost:8080/"
        },
        "id": "AKqNK4QuHBxr",
        "outputId": "a7db26f9-278b-4fce-dcf6-d3bcaddb81d9"
      },
      "execution_count": 126,
      "outputs": [
        {
          "output_type": "stream",
          "name": "stdout",
          "text": [
            "{1, 2}\n"
          ]
        }
      ]
    },
    {
      "cell_type": "code",
      "source": [
        "\n",
        "\n",
        "# 12. Check if a set is a subset of another set.\n",
        "is_subset = set_a.issubset(set_b)\n",
        "print(is_subset)"
      ],
      "metadata": {
        "colab": {
          "base_uri": "https://localhost:8080/"
        },
        "id": "OuCjEPFMHB0i",
        "outputId": "41181378-a7dd-423e-97e0-12a7cec36a67"
      },
      "execution_count": 127,
      "outputs": [
        {
          "output_type": "stream",
          "name": "stdout",
          "text": [
            "False\n"
          ]
        }
      ]
    },
    {
      "cell_type": "code",
      "source": [
        "\n",
        "# 13. Check if a set is a superset of another set.\n",
        "is_superset = set_a.issuperset(set_b)\n",
        "print(is_superset)"
      ],
      "metadata": {
        "colab": {
          "base_uri": "https://localhost:8080/"
        },
        "id": "IGPvWev2HB3Y",
        "outputId": "0f43800a-7943-45ec-c98b-ae95512544a6"
      },
      "execution_count": 128,
      "outputs": [
        {
          "output_type": "stream",
          "name": "stdout",
          "text": [
            "False\n"
          ]
        }
      ]
    },
    {
      "cell_type": "code",
      "source": [
        "# 14. Create a set from a list.\n",
        "list_to_set = set([1, 2, 3, 4, 5])\n",
        "print(list_to_set)"
      ],
      "metadata": {
        "colab": {
          "base_uri": "https://localhost:8080/"
        },
        "id": "aCl_ZsX2HB6c",
        "outputId": "d09df679-225c-45c0-b160-a20247238112"
      },
      "execution_count": 129,
      "outputs": [
        {
          "output_type": "stream",
          "name": "stdout",
          "text": [
            "{1, 2, 3, 4, 5}\n"
          ]
        }
      ]
    },
    {
      "cell_type": "code",
      "source": [
        "\n",
        "\n",
        "# 15. Convert a set to a list.\n",
        "set_to_list = list(set_integers)\n",
        "print(set_to_list)\n",
        "\n"
      ],
      "metadata": {
        "colab": {
          "base_uri": "https://localhost:8080/"
        },
        "id": "7A7DuZKJHB9s",
        "outputId": "b9c7055d-5e0e-4a27-c4d0-de9576e68318"
      },
      "execution_count": 130,
      "outputs": [
        {
          "output_type": "stream",
          "name": "stdout",
          "text": [
            "[]\n"
          ]
        }
      ]
    },
    {
      "cell_type": "code",
      "source": [
        "# 16. Remove a random element from a set.\n",
        "if set_integers:\n",
        "    removed_element = set_integers.pop()\n",
        "    print(f\"Removed Element: {removed_element}\")\n",
        "else:\n",
        "    print(\"Set is empty, cannot remove an element.\")\n",
        "\n"
      ],
      "metadata": {
        "colab": {
          "base_uri": "https://localhost:8080/"
        },
        "id": "nrCcS3bnHCGz",
        "outputId": "d664e74c-1599-4801-eb72-b15bc33ea205"
      },
      "execution_count": 165,
      "outputs": [
        {
          "output_type": "stream",
          "name": "stdout",
          "text": [
            "Removed Element: 1\n"
          ]
        }
      ]
    },
    {
      "cell_type": "code",
      "source": [
        "# 17. Pop an element from a set.\n",
        "popped_element = set_integers.pop()\n",
        "print(popped_element)\n"
      ],
      "metadata": {
        "colab": {
          "base_uri": "https://localhost:8080/"
        },
        "id": "ajIYwg3xHCKE",
        "outputId": "5f02ded0-1aa9-4ac1-9f64-9762c9d0219f"
      },
      "execution_count": 166,
      "outputs": [
        {
          "output_type": "stream",
          "name": "stdout",
          "text": [
            "2\n"
          ]
        }
      ]
    },
    {
      "cell_type": "code",
      "source": [
        "# 18. Check if two sets have no elements in common.\n",
        "no_common_elements = set_a.isdisjoint(set_b)\n",
        "print(no_common_elements)\n"
      ],
      "metadata": {
        "colab": {
          "base_uri": "https://localhost:8080/"
        },
        "id": "R6CzIHn-HCNm",
        "outputId": "1d239839-4b56-47db-fe50-33aa4ebcdfa1"
      },
      "execution_count": 167,
      "outputs": [
        {
          "output_type": "stream",
          "name": "stdout",
          "text": [
            "False\n"
          ]
        }
      ]
    },
    {
      "cell_type": "code",
      "source": [
        "# 19. Find the symmetric difference between two sets.\n",
        "symmetric_difference = set_a.symmetric_difference(set_b)\n",
        "print(symmetric_difference)\n",
        "\n",
        "\n"
      ],
      "metadata": {
        "colab": {
          "base_uri": "https://localhost:8080/"
        },
        "id": "UqKXoutHHCQ3",
        "outputId": "77c634af-8d9f-4751-a289-483e6955f72a"
      },
      "execution_count": 168,
      "outputs": [
        {
          "output_type": "stream",
          "name": "stdout",
          "text": [
            "{1, 2, 4, 5}\n"
          ]
        }
      ]
    },
    {
      "cell_type": "code",
      "source": [
        "\n",
        "# 20. Update a set with elements from another set.\n",
        "set_a.update(set_b)\n",
        "print(set_a)\n"
      ],
      "metadata": {
        "colab": {
          "base_uri": "https://localhost:8080/"
        },
        "id": "S_hpT_m5HCTz",
        "outputId": "179804e4-24d2-4bc3-9338-fdff93e4331b"
      },
      "execution_count": 169,
      "outputs": [
        {
          "output_type": "stream",
          "name": "stdout",
          "text": [
            "{1, 2, 3, 4, 5}\n"
          ]
        }
      ]
    },
    {
      "cell_type": "code",
      "source": [
        "\n",
        "\n",
        "# 21. Create a set of the first 5 prime numbers.\n",
        "set_primes = {2, 3, 5, 7, 11}\n",
        "print(set_primes)"
      ],
      "metadata": {
        "colab": {
          "base_uri": "https://localhost:8080/"
        },
        "id": "_sjDCDkkHCW_",
        "outputId": "db38906b-95cc-4631-a11e-b5bb1cfc0614"
      },
      "execution_count": 170,
      "outputs": [
        {
          "output_type": "stream",
          "name": "stdout",
          "text": [
            "{2, 3, 5, 7, 11}\n"
          ]
        }
      ]
    },
    {
      "cell_type": "code",
      "source": [
        "# 22. Check if two sets are identical.\n",
        "are_identical = set_a == set_b\n",
        "print(are_identical)"
      ],
      "metadata": {
        "colab": {
          "base_uri": "https://localhost:8080/"
        },
        "id": "AlRLZh3eHCZ6",
        "outputId": "6764865c-3ae1-44d4-dec0-8368ee69d1b7"
      },
      "execution_count": 171,
      "outputs": [
        {
          "output_type": "stream",
          "name": "stdout",
          "text": [
            "False\n"
          ]
        }
      ]
    },
    {
      "cell_type": "code",
      "source": [
        "\n",
        "\n",
        "\n",
        "# 23. Create a frozen set.\n",
        "frozen_set = frozenset(set_a)\n",
        "print(frozen_set)\n"
      ],
      "metadata": {
        "colab": {
          "base_uri": "https://localhost:8080/"
        },
        "id": "072B9-P5HCcu",
        "outputId": "eab70a5e-8f7d-469a-da25-092712ca3fde"
      },
      "execution_count": 172,
      "outputs": [
        {
          "output_type": "stream",
          "name": "stdout",
          "text": [
            "frozenset({1, 2, 3, 4, 5})\n"
          ]
        }
      ]
    },
    {
      "cell_type": "code",
      "source": [
        "\n",
        "\n",
        "# 24. Check if a set is disjoint with another set.\n",
        "is_disjoint = set_a.isdisjoint(set_b)\n",
        "print(is_disjoint)"
      ],
      "metadata": {
        "colab": {
          "base_uri": "https://localhost:8080/"
        },
        "id": "DpEbqXPdHCfx",
        "outputId": "a01a8664-1c01-49ef-8e93-44cc2cdf2cd6"
      },
      "execution_count": 173,
      "outputs": [
        {
          "output_type": "stream",
          "name": "stdout",
          "text": [
            "False\n"
          ]
        }
      ]
    },
    {
      "cell_type": "code",
      "source": [
        "# 25. Create a set of squares of numbers from 1 to 5.\n",
        "set_squares = {i**2 for i in range(1, 6)}\n",
        "print(set_squares)"
      ],
      "metadata": {
        "colab": {
          "base_uri": "https://localhost:8080/"
        },
        "id": "B34DPDIvHCiM",
        "outputId": "e979e133-52b8-41d9-a9a4-c5fa547ed1b4"
      },
      "execution_count": 174,
      "outputs": [
        {
          "output_type": "stream",
          "name": "stdout",
          "text": [
            "{1, 4, 9, 16, 25}\n"
          ]
        }
      ]
    },
    {
      "cell_type": "code",
      "source": [
        "# 26. Filter out all even numbers from a set.\n",
        "set_numbers = {1, 2, 3, 4, 5, 6, 7, 8, 9, 10}\n",
        "filtered_set = {num for num in set_numbers if num % 2 != 0}\n",
        "print(filtered_set)"
      ],
      "metadata": {
        "colab": {
          "base_uri": "https://localhost:8080/"
        },
        "id": "8JV9yzguHClk",
        "outputId": "87da4f5e-3bcc-47c4-88ae-7d7ea24ff41a"
      },
      "execution_count": 175,
      "outputs": [
        {
          "output_type": "stream",
          "name": "stdout",
          "text": [
            "{1, 3, 5, 7, 9}\n"
          ]
        }
      ]
    },
    {
      "cell_type": "code",
      "source": [
        "\n",
        "# 27. Multiply all elements in a set by 2.\n",
        "multiplied_set = {num * 2 for num in set_numbers}\n",
        "print(multiplied_set)"
      ],
      "metadata": {
        "colab": {
          "base_uri": "https://localhost:8080/"
        },
        "id": "oj6dETegIEmC",
        "outputId": "a163f747-cdc3-44a3-e56a-e93ceac1c0c7"
      },
      "execution_count": 176,
      "outputs": [
        {
          "output_type": "stream",
          "name": "stdout",
          "text": [
            "{2, 4, 6, 8, 10, 12, 14, 16, 18, 20}\n"
          ]
        }
      ]
    },
    {
      "cell_type": "code",
      "source": [
        "# 28. Create a set of random numbers.\n",
        "import random\n",
        "random_set = {random.randint(1, 100) for _ in range(5)}\n",
        "print(random_set)\n"
      ],
      "metadata": {
        "colab": {
          "base_uri": "https://localhost:8080/"
        },
        "id": "7XbY16HTIEpe",
        "outputId": "b01232a2-fa6b-4a85-cc89-8b5d0e85304f"
      },
      "execution_count": 177,
      "outputs": [
        {
          "output_type": "stream",
          "name": "stdout",
          "text": [
            "{1, 67, 40, 16, 81}\n"
          ]
        }
      ]
    },
    {
      "cell_type": "code",
      "source": [
        "\n",
        "# 29. Check if a set is empty.\n",
        "empty_set = set()\n",
        "is_empty = not bool(empty_set)\n",
        "print(is_empty)"
      ],
      "metadata": {
        "colab": {
          "base_uri": "https://localhost:8080/"
        },
        "id": "nCz3bwetIEsl",
        "outputId": "70692196-e19f-432d-eb7a-7fcfb36cb18f"
      },
      "execution_count": 178,
      "outputs": [
        {
          "output_type": "stream",
          "name": "stdout",
          "text": [
            "True\n"
          ]
        }
      ]
    },
    {
      "cell_type": "code",
      "source": [
        "\n",
        "# 30. Create a nested set (hint: use frozenset).\n",
        "nested_set = {frozenset({1, 2}), frozenset({3, 4})}\n",
        "print(nested_set)"
      ],
      "metadata": {
        "colab": {
          "base_uri": "https://localhost:8080/"
        },
        "id": "7wvRdc4-IEvx",
        "outputId": "5ac20fc0-7496-4f62-cc71-ee3d5d8d9862"
      },
      "execution_count": 179,
      "outputs": [
        {
          "output_type": "stream",
          "name": "stdout",
          "text": [
            "{frozenset({3, 4}), frozenset({1, 2})}\n"
          ]
        }
      ]
    },
    {
      "cell_type": "code",
      "source": [
        "\n",
        "# 31. Remove an element from a set using the discard method.\n",
        "set_to_remove_from = {1, 2, 3, 4, 5}\n",
        "set_to_remove_from.discard(3)\n",
        "print(set_to_remove_from)"
      ],
      "metadata": {
        "colab": {
          "base_uri": "https://localhost:8080/"
        },
        "id": "9W62NshLIEzK",
        "outputId": "c8295482-3713-49a4-a13d-b96a476cc63a"
      },
      "execution_count": 180,
      "outputs": [
        {
          "output_type": "stream",
          "name": "stdout",
          "text": [
            "{1, 2, 4, 5}\n"
          ]
        }
      ]
    },
    {
      "cell_type": "code",
      "source": [
        "# 32. Compare two sets.\n",
        "set_x = {1, 2, 3}\n",
        "set_y = {3, 4, 5}\n",
        "comparison_result = set_x == set_y\n",
        "print(comparison_result)"
      ],
      "metadata": {
        "colab": {
          "base_uri": "https://localhost:8080/"
        },
        "id": "cE2UAK5wIE2X",
        "outputId": "33bd4a97-84f3-471b-b24d-bd6412c6a6ed"
      },
      "execution_count": 181,
      "outputs": [
        {
          "output_type": "stream",
          "name": "stdout",
          "text": [
            "False\n"
          ]
        }
      ]
    },
    {
      "cell_type": "code",
      "source": [
        "\n",
        "# 33. Create a set from a string.\n",
        "string_set = set(\"hello\")\n",
        "print(string_set)\n"
      ],
      "metadata": {
        "colab": {
          "base_uri": "https://localhost:8080/"
        },
        "id": "SibWORQrIE58",
        "outputId": "7c193c5c-9ff4-4e55-f8ae-60cd2016f67e"
      },
      "execution_count": 182,
      "outputs": [
        {
          "output_type": "stream",
          "name": "stdout",
          "text": [
            "{'o', 'l', 'e', 'h'}\n"
          ]
        }
      ]
    },
    {
      "cell_type": "code",
      "source": [
        "# 34. Convert a set of strings to a set of integers.\n",
        "set_strings = {\"1\", \"2\", \"3\"}\n",
        "set_integers_from_strings = {int(num) for num in set_strings}\n",
        "print(set_integers_from_strings)"
      ],
      "metadata": {
        "colab": {
          "base_uri": "https://localhost:8080/"
        },
        "id": "6JwVZw3VIE9Q",
        "outputId": "14831d2d-d5a4-4408-e768-726be05e96ba"
      },
      "execution_count": 183,
      "outputs": [
        {
          "output_type": "stream",
          "name": "stdout",
          "text": [
            "{1, 2, 3}\n"
          ]
        }
      ]
    },
    {
      "cell_type": "code",
      "source": [
        "\n",
        "# 35. Convert a set of integers to a set of strings.\n",
        "set_integers = {1, 2, 3}\n",
        "set_strings_from_integers = {str(num) for num in set_integers}\n",
        "print(set_strings_from_integers)\n"
      ],
      "metadata": {
        "colab": {
          "base_uri": "https://localhost:8080/"
        },
        "id": "RKXx_HSuIFAr",
        "outputId": "cd3c2b71-5358-4e10-be01-744e0ec608aa"
      },
      "execution_count": 184,
      "outputs": [
        {
          "output_type": "stream",
          "name": "stdout",
          "text": [
            "{'2', '1', '3'}\n"
          ]
        }
      ]
    },
    {
      "cell_type": "code",
      "source": [
        "# 36. Create a set from a tuple.\n",
        "tuple_set = set((1, 2, 3, 4))\n",
        "print(tuple_set)"
      ],
      "metadata": {
        "colab": {
          "base_uri": "https://localhost:8080/"
        },
        "id": "hdYssQz3IFPY",
        "outputId": "769f6504-969b-4b08-b975-ef9ad195add6"
      },
      "execution_count": 185,
      "outputs": [
        {
          "output_type": "stream",
          "name": "stdout",
          "text": [
            "{1, 2, 3, 4}\n"
          ]
        }
      ]
    },
    {
      "cell_type": "code",
      "source": [
        "\n",
        "# 37. Convert a set to a tuple.\n",
        "set_to_tuple = tuple(set_numbers)\n",
        "print(set_to_tuple)\n"
      ],
      "metadata": {
        "colab": {
          "base_uri": "https://localhost:8080/"
        },
        "id": "iFOvT3j6IFSy",
        "outputId": "8a25349c-c5be-4035-d4e9-4ee9d8d83605"
      },
      "execution_count": 186,
      "outputs": [
        {
          "output_type": "stream",
          "name": "stdout",
          "text": [
            "(1, 2, 3, 4, 5, 6, 7, 8, 9, 10)\n"
          ]
        }
      ]
    },
    {
      "cell_type": "code",
      "source": [
        "# 38. Find the maximum value in a set.\n",
        "max_value = max(set_numbers)\n",
        "print(max_value)"
      ],
      "metadata": {
        "colab": {
          "base_uri": "https://localhost:8080/"
        },
        "id": "3OlFsLDoIFWT",
        "outputId": "15153dce-2a32-4c7b-e490-86bf7d7431e0"
      },
      "execution_count": 187,
      "outputs": [
        {
          "output_type": "stream",
          "name": "stdout",
          "text": [
            "10\n"
          ]
        }
      ]
    },
    {
      "cell_type": "code",
      "source": [
        "\n",
        "# 39. Find the minimum value in a set.\n",
        "min_value = min(set_numbers)\n",
        "print(min_value)\n",
        "\n",
        "\n"
      ],
      "metadata": {
        "colab": {
          "base_uri": "https://localhost:8080/"
        },
        "id": "pJb9siDpIFZk",
        "outputId": "387529b0-117f-4665-e92b-499e851482bc"
      },
      "execution_count": 188,
      "outputs": [
        {
          "output_type": "stream",
          "name": "stdout",
          "text": [
            "1\n"
          ]
        }
      ]
    },
    {
      "cell_type": "code",
      "source": [
        "\n",
        "# 40. Create a set from user input.\n",
        "user_input_set = set(map(int, input(\"Enter numbers separated by space: \").split()))\n",
        "print(user_input_set)\n"
      ],
      "metadata": {
        "colab": {
          "base_uri": "https://localhost:8080/"
        },
        "id": "MxfaGSRqIt1H",
        "outputId": "aa85fed4-8ea8-4fb0-a640-cc80878c9b16"
      },
      "execution_count": 189,
      "outputs": [
        {
          "output_type": "stream",
          "name": "stdout",
          "text": [
            "Enter numbers separated by space: 3 4 55 64 5 56 \n",
            "{64, 3, 4, 5, 55, 56}\n"
          ]
        }
      ]
    },
    {
      "cell_type": "code",
      "source": [
        "\n",
        "# 41. Check if the intersection of two sets is empty.\n",
        "intersection_empty = set_x.isdisjoint(set_y)\n",
        "print(intersection_empty)"
      ],
      "metadata": {
        "colab": {
          "base_uri": "https://localhost:8080/"
        },
        "id": "Pl8tf5BoIt4g",
        "outputId": "7399ce16-c2a7-4067-934c-6c4de49af595"
      },
      "execution_count": 190,
      "outputs": [
        {
          "output_type": "stream",
          "name": "stdout",
          "text": [
            "False\n"
          ]
        }
      ]
    },
    {
      "cell_type": "code",
      "source": [
        "# 42. Create a set of the first 5 Fibonacci numbers.\n",
        "fibonacci_set = {0, 1, 1, 2, 3}\n",
        "print(fibonacci_set)\n",
        "\n"
      ],
      "metadata": {
        "colab": {
          "base_uri": "https://localhost:8080/"
        },
        "id": "bawNTbGEIFcs",
        "outputId": "e35694e5-bf2f-4c3e-8a49-66d983416f45"
      },
      "execution_count": 191,
      "outputs": [
        {
          "output_type": "stream",
          "name": "stdout",
          "text": [
            "{0, 1, 2, 3}\n"
          ]
        }
      ]
    },
    {
      "cell_type": "code",
      "source": [
        "# 43. Remove duplicates from a list using sets.\n",
        "original_list = [1, 2, 2, 3, 4, 4, 5]\n",
        "list_without_duplicates = list(set(original_list))\n",
        "print(list_without_duplicates)\n"
      ],
      "metadata": {
        "colab": {
          "base_uri": "https://localhost:8080/"
        },
        "id": "4cAWfN8tIFfV",
        "outputId": "639b2078-d43d-48ce-9d68-a5b894fea857"
      },
      "execution_count": 192,
      "outputs": [
        {
          "output_type": "stream",
          "name": "stdout",
          "text": [
            "[1, 2, 3, 4, 5]\n"
          ]
        }
      ]
    },
    {
      "cell_type": "code",
      "source": [
        "# 44. Check if two sets have the same elements, regardless of their count.\n",
        "same_elements = set_x == set_y\n",
        "print(same_elements)\n",
        "\n"
      ],
      "metadata": {
        "colab": {
          "base_uri": "https://localhost:8080/"
        },
        "id": "8NQuIMquIFis",
        "outputId": "8517822f-f25a-4af2-9e1d-d1987d7c69e5"
      },
      "execution_count": 193,
      "outputs": [
        {
          "output_type": "stream",
          "name": "stdout",
          "text": [
            "False\n"
          ]
        }
      ]
    },
    {
      "cell_type": "code",
      "source": [
        "\n",
        "# 45. Create a set of the first `n` powers of 2.\n",
        "n_powers_of_2 = {2**i for i in range(5)}\n",
        "print(n_powers_of_2)\n"
      ],
      "metadata": {
        "colab": {
          "base_uri": "https://localhost:8080/"
        },
        "id": "DUZrB_a-IFl4",
        "outputId": "db13348c-6715-46b0-e6ce-dc23ab880d24"
      },
      "execution_count": 194,
      "outputs": [
        {
          "output_type": "stream",
          "name": "stdout",
          "text": [
            "{1, 2, 4, 8, 16}\n"
          ]
        }
      ]
    },
    {
      "cell_type": "code",
      "source": [
        "\n",
        "\n",
        "\n",
        "# 46. Find the common elements between a set and a list.\n",
        "common_elements = set_numbers.intersection(original_list)\n",
        "print(common_elements)\n",
        "\n"
      ],
      "metadata": {
        "colab": {
          "base_uri": "https://localhost:8080/"
        },
        "id": "YfZIytU-IFpK",
        "outputId": "e687fc52-bca4-4ee9-815b-4824cf72105f"
      },
      "execution_count": 195,
      "outputs": [
        {
          "output_type": "stream",
          "name": "stdout",
          "text": [
            "{1, 2, 3, 4, 5}\n"
          ]
        }
      ]
    },
    {
      "cell_type": "code",
      "source": [
        "# 47. Create a set of the first `n` triangular numbers.\n",
        "n_triangular_numbers = {i * (i + 1) // 2 for i in range(5)}\n",
        "print(n_triangular_numbers)\n",
        "\n"
      ],
      "metadata": {
        "colab": {
          "base_uri": "https://localhost:8080/"
        },
        "id": "g9JiRUhcIFsb",
        "outputId": "671ebad6-928e-4f97-8883-7f8a5ead2c7a"
      },
      "execution_count": 196,
      "outputs": [
        {
          "output_type": "stream",
          "name": "stdout",
          "text": [
            "{0, 1, 3, 6, 10}\n"
          ]
        }
      ]
    },
    {
      "cell_type": "code",
      "source": [
        "\n",
        "\n",
        "\n",
        "\n",
        "# 48. Check if a set contains another set as a subset.\n",
        "is_subset = set_x.issubset(set_y)\n",
        "print(is_subset)\n"
      ],
      "metadata": {
        "colab": {
          "base_uri": "https://localhost:8080/"
        },
        "id": "2mW7IIc-IFvo",
        "outputId": "fd502f30-73dc-46af-92a9-a1ed9673a886"
      },
      "execution_count": 197,
      "outputs": [
        {
          "output_type": "stream",
          "name": "stdout",
          "text": [
            "False\n"
          ]
        }
      ]
    },
    {
      "cell_type": "code",
      "source": [
        "# 49. Create a set of alternating 1s and 0s of length `n`.\n",
        "n_alternating_1s_and_0s = {(i % 2) for i in range(5)}\n",
        "print(n_alternating_1s_and_0s)\n",
        "\n"
      ],
      "metadata": {
        "colab": {
          "base_uri": "https://localhost:8080/"
        },
        "id": "NqOCLrQ8IFzL",
        "outputId": "ab3111ae-8419-4071-8972-6eb55060ba17"
      },
      "execution_count": 198,
      "outputs": [
        {
          "output_type": "stream",
          "name": "stdout",
          "text": [
            "{0, 1}\n"
          ]
        }
      ]
    },
    {
      "cell_type": "code",
      "source": [
        "\n",
        "# 50. Merge multiple sets into one.\n",
        "set_a = {1, 2, 3}\n",
        "set_b = {3, 4, 5}\n",
        "set_c = {5, 6, 7}\n",
        "merged_set = set_a.union(set_b, set_c)\n",
        "print(merged_set)"
      ],
      "metadata": {
        "colab": {
          "base_uri": "https://localhost:8080/"
        },
        "id": "w3qe2Fy8IF2H",
        "outputId": "5f44a6b0-3d6b-401a-edbf-289f6a10a26f"
      },
      "execution_count": 199,
      "outputs": [
        {
          "output_type": "stream",
          "name": "stdout",
          "text": [
            "{1, 2, 3, 4, 5, 6, 7}\n"
          ]
        }
      ]
    }
  ]
}